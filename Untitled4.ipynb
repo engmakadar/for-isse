{
 "cells": [
  {
   "cell_type": "code",
   "execution_count": 275,
   "id": "7ff224d2",
   "metadata": {},
   "outputs": [],
   "source": [
    "import numpy as np\n",
    "import pandas as pd\n",
    "import matplotlib.pyplot as plt\n",
    "import seaborn as sns\n",
    "pd.set_option('display.max_columns', None)\n",
    "import warnings\n",
    "warnings.filterwarnings('ignore')"
   ]
  },
  {
   "cell_type": "code",
   "execution_count": 218,
   "id": "5b23c2ba",
   "metadata": {},
   "outputs": [],
   "source": [
    "df = pd.read_excel('/Users/mkhashi/Downloads/Household cleaned Water.xlsx')"
   ]
  },
  {
   "cell_type": "code",
   "execution_count": 219,
   "id": "421ff055",
   "metadata": {},
   "outputs": [
    {
     "data": {
      "text/html": [
       "<div>\n",
       "<style scoped>\n",
       "    .dataframe tbody tr th:only-of-type {\n",
       "        vertical-align: middle;\n",
       "    }\n",
       "\n",
       "    .dataframe tbody tr th {\n",
       "        vertical-align: top;\n",
       "    }\n",
       "\n",
       "    .dataframe thead th {\n",
       "        text-align: right;\n",
       "    }\n",
       "</style>\n",
       "<table border=\"1\" class=\"dataframe\">\n",
       "  <thead>\n",
       "    <tr style=\"text-align: right;\">\n",
       "      <th></th>\n",
       "      <th>Household ID</th>\n",
       "      <th>Gender of respondent</th>\n",
       "      <th>Age of respondent</th>\n",
       "      <th>Household size</th>\n",
       "      <th>Main livelihood activity</th>\n",
       "      <th>Main source of drinking water</th>\n",
       "      <th>Walking time to water source</th>\n",
       "      <th>Do you treat your drinking water?</th>\n",
       "      <th>If yes, how?</th>\n",
       "      <th>If yes, how?/Boiling</th>\n",
       "      <th>If yes, how?/Chlorination</th>\n",
       "      <th>If yes, how?/Filtration</th>\n",
       "      <th>If yes, how?/Other</th>\n",
       "      <th>Type of sanitation facility</th>\n",
       "      <th>Handwashing facility present?</th>\n",
       "      <th>If yes, is soap/ash available?</th>\n",
       "      <th>Has your main water point broken down in the past year?</th>\n",
       "      <th>If yes, average repair time</th>\n",
       "      <th>Who usually pays for repairs?</th>\n",
       "      <th>Have there been conflicts at water points?</th>\n",
       "      <th>Do you pay for water use?</th>\n",
       "      <th>If yes, payment frequency</th>\n",
       "      <th>Is there a water committee in your area?</th>\n",
       "      <th>Do you or a household member participate in the water committee?</th>\n",
       "      <th>How satisfied are you with water service management?</th>\n",
       "      <th>Have NGOs/UN agencies implemented WASH projects in your area in the last 5 years?</th>\n",
       "      <th>Impact on water access</th>\n",
       "      <th>Impact on sanitation facilities</th>\n",
       "      <th>Impact on hygiene practices</th>\n",
       "      <th>Any household member experienced diarrhea in past 3 months?</th>\n",
       "      <th>If yes, how many cases?</th>\n",
       "      <th>Has your community experienced a cholera outbreak in the past 12 months?</th>\n",
       "    </tr>\n",
       "  </thead>\n",
       "  <tbody>\n",
       "    <tr>\n",
       "      <th>0</th>\n",
       "      <td>PU001</td>\n",
       "      <td>Male</td>\n",
       "      <td>31–45</td>\n",
       "      <td>7–9</td>\n",
       "      <td>Business</td>\n",
       "      <td>Trucked water</td>\n",
       "      <td>15–30 min</td>\n",
       "      <td>No</td>\n",
       "      <td>NaN</td>\n",
       "      <td>NaN</td>\n",
       "      <td>NaN</td>\n",
       "      <td>NaN</td>\n",
       "      <td>NaN</td>\n",
       "      <td>Improved latrine</td>\n",
       "      <td>No</td>\n",
       "      <td>NaN</td>\n",
       "      <td>No</td>\n",
       "      <td>NaN</td>\n",
       "      <td>Other</td>\n",
       "      <td>No</td>\n",
       "      <td>Yes</td>\n",
       "      <td>Monthly</td>\n",
       "      <td>No</td>\n",
       "      <td>No</td>\n",
       "      <td>Satisfied</td>\n",
       "      <td>Yes</td>\n",
       "      <td>High</td>\n",
       "      <td>Low</td>\n",
       "      <td>Low</td>\n",
       "      <td>No</td>\n",
       "      <td>NaN</td>\n",
       "      <td>No</td>\n",
       "    </tr>\n",
       "    <tr>\n",
       "      <th>1</th>\n",
       "      <td>PU002</td>\n",
       "      <td>Male</td>\n",
       "      <td>31–45</td>\n",
       "      <td>4–6</td>\n",
       "      <td>Casual labor</td>\n",
       "      <td>Shallow well</td>\n",
       "      <td>&lt;15 min</td>\n",
       "      <td>No</td>\n",
       "      <td>NaN</td>\n",
       "      <td>NaN</td>\n",
       "      <td>NaN</td>\n",
       "      <td>NaN</td>\n",
       "      <td>NaN</td>\n",
       "      <td>Improved latrine</td>\n",
       "      <td>No</td>\n",
       "      <td>NaN</td>\n",
       "      <td>No</td>\n",
       "      <td>&lt;1 week</td>\n",
       "      <td>Community</td>\n",
       "      <td>Yes</td>\n",
       "      <td>Yes</td>\n",
       "      <td>Monthly</td>\n",
       "      <td>Yes</td>\n",
       "      <td>Yes</td>\n",
       "      <td>Satisfied</td>\n",
       "      <td>Yes</td>\n",
       "      <td>High</td>\n",
       "      <td>Low</td>\n",
       "      <td>Low</td>\n",
       "      <td>No</td>\n",
       "      <td>NaN</td>\n",
       "      <td>No</td>\n",
       "    </tr>\n",
       "    <tr>\n",
       "      <th>2</th>\n",
       "      <td>PU003</td>\n",
       "      <td>Male</td>\n",
       "      <td>18–30</td>\n",
       "      <td>1–3</td>\n",
       "      <td>Business</td>\n",
       "      <td>Shallow well</td>\n",
       "      <td>&lt;15 min</td>\n",
       "      <td>No</td>\n",
       "      <td>NaN</td>\n",
       "      <td>NaN</td>\n",
       "      <td>NaN</td>\n",
       "      <td>NaN</td>\n",
       "      <td>NaN</td>\n",
       "      <td>Improved latrine</td>\n",
       "      <td>No</td>\n",
       "      <td>NaN</td>\n",
       "      <td>Yes</td>\n",
       "      <td>&lt;1 week</td>\n",
       "      <td>NaN</td>\n",
       "      <td>No</td>\n",
       "      <td>Yes</td>\n",
       "      <td>Monthly</td>\n",
       "      <td>No</td>\n",
       "      <td>No</td>\n",
       "      <td>Satisfied</td>\n",
       "      <td>Yes</td>\n",
       "      <td>High</td>\n",
       "      <td>Moderate</td>\n",
       "      <td>Moderate</td>\n",
       "      <td>No</td>\n",
       "      <td>NaN</td>\n",
       "      <td>No</td>\n",
       "    </tr>\n",
       "    <tr>\n",
       "      <th>3</th>\n",
       "      <td>PU004</td>\n",
       "      <td>Female</td>\n",
       "      <td>31–45</td>\n",
       "      <td>7–9</td>\n",
       "      <td>Other</td>\n",
       "      <td>Shallow well</td>\n",
       "      <td>&lt;15 min</td>\n",
       "      <td>No</td>\n",
       "      <td>NaN</td>\n",
       "      <td>NaN</td>\n",
       "      <td>NaN</td>\n",
       "      <td>NaN</td>\n",
       "      <td>NaN</td>\n",
       "      <td>Improved latrine</td>\n",
       "      <td>No</td>\n",
       "      <td>Sometimes</td>\n",
       "      <td>No</td>\n",
       "      <td>NaN</td>\n",
       "      <td>NaN</td>\n",
       "      <td>No</td>\n",
       "      <td>Yes</td>\n",
       "      <td>Weekly</td>\n",
       "      <td>No</td>\n",
       "      <td>Yes</td>\n",
       "      <td>Satisfied</td>\n",
       "      <td>Yes</td>\n",
       "      <td>High</td>\n",
       "      <td>Moderate</td>\n",
       "      <td>Low</td>\n",
       "      <td>No</td>\n",
       "      <td>NaN</td>\n",
       "      <td>No</td>\n",
       "    </tr>\n",
       "    <tr>\n",
       "      <th>4</th>\n",
       "      <td>PU005</td>\n",
       "      <td>Female</td>\n",
       "      <td>46–60</td>\n",
       "      <td>4–6</td>\n",
       "      <td>Business</td>\n",
       "      <td>Shallow well</td>\n",
       "      <td>&lt;15 min</td>\n",
       "      <td>No</td>\n",
       "      <td>NaN</td>\n",
       "      <td>NaN</td>\n",
       "      <td>NaN</td>\n",
       "      <td>NaN</td>\n",
       "      <td>NaN</td>\n",
       "      <td>Improved latrine</td>\n",
       "      <td>No</td>\n",
       "      <td>Sometimes</td>\n",
       "      <td>No</td>\n",
       "      <td>NaN</td>\n",
       "      <td>Private vendor</td>\n",
       "      <td>No</td>\n",
       "      <td>Yes</td>\n",
       "      <td>Monthly</td>\n",
       "      <td>No</td>\n",
       "      <td>No</td>\n",
       "      <td>Satisfied</td>\n",
       "      <td>Yes</td>\n",
       "      <td>High</td>\n",
       "      <td>Moderate</td>\n",
       "      <td>Moderate</td>\n",
       "      <td>No</td>\n",
       "      <td>NaN</td>\n",
       "      <td>No</td>\n",
       "    </tr>\n",
       "  </tbody>\n",
       "</table>\n",
       "</div>"
      ],
      "text/plain": [
       "  Household ID Gender of respondent Age of respondent Household size  \\\n",
       "0        PU001                 Male             31–45            7–9   \n",
       "1        PU002                 Male             31–45            4–6   \n",
       "2        PU003                 Male             18–30            1–3   \n",
       "3        PU004               Female             31–45            7–9   \n",
       "4        PU005               Female             46–60            4–6   \n",
       "\n",
       "  Main livelihood activity Main source of drinking water  \\\n",
       "0                 Business                 Trucked water   \n",
       "1             Casual labor                  Shallow well   \n",
       "2                 Business                  Shallow well   \n",
       "3                    Other                  Shallow well   \n",
       "4                 Business                  Shallow well   \n",
       "\n",
       "  Walking time to water source Do you treat your drinking water? If yes, how?  \\\n",
       "0                    15–30 min                                No          NaN   \n",
       "1                      <15 min                                No          NaN   \n",
       "2                      <15 min                                No          NaN   \n",
       "3                      <15 min                                No          NaN   \n",
       "4                      <15 min                                No          NaN   \n",
       "\n",
       "   If yes, how?/Boiling  If yes, how?/Chlorination  If yes, how?/Filtration  \\\n",
       "0                   NaN                        NaN                      NaN   \n",
       "1                   NaN                        NaN                      NaN   \n",
       "2                   NaN                        NaN                      NaN   \n",
       "3                   NaN                        NaN                      NaN   \n",
       "4                   NaN                        NaN                      NaN   \n",
       "\n",
       "   If yes, how?/Other Type of sanitation facility  \\\n",
       "0                 NaN            Improved latrine   \n",
       "1                 NaN            Improved latrine   \n",
       "2                 NaN            Improved latrine   \n",
       "3                 NaN            Improved latrine   \n",
       "4                 NaN            Improved latrine   \n",
       "\n",
       "  Handwashing facility present? If yes, is soap/ash available?  \\\n",
       "0                            No                            NaN   \n",
       "1                            No                            NaN   \n",
       "2                            No                            NaN   \n",
       "3                            No                      Sometimes   \n",
       "4                            No                      Sometimes   \n",
       "\n",
       "  Has your main water point broken down in the past year?  \\\n",
       "0                                                 No        \n",
       "1                                                 No        \n",
       "2                                                Yes        \n",
       "3                                                 No        \n",
       "4                                                 No        \n",
       "\n",
       "  If yes, average repair time Who usually pays for repairs?  \\\n",
       "0                         NaN                         Other   \n",
       "1                     <1 week                     Community   \n",
       "2                     <1 week                           NaN   \n",
       "3                         NaN                           NaN   \n",
       "4                         NaN                Private vendor   \n",
       "\n",
       "  Have there been conflicts at water points? Do you pay for water use?  \\\n",
       "0                                         No                       Yes   \n",
       "1                                        Yes                       Yes   \n",
       "2                                         No                       Yes   \n",
       "3                                         No                       Yes   \n",
       "4                                         No                       Yes   \n",
       "\n",
       "  If yes, payment frequency Is there a water committee in your area?  \\\n",
       "0                   Monthly                                       No   \n",
       "1                   Monthly                                      Yes   \n",
       "2                   Monthly                                       No   \n",
       "3                    Weekly                                       No   \n",
       "4                   Monthly                                       No   \n",
       "\n",
       "  Do you or a household member participate in the water committee?  \\\n",
       "0                                                 No                 \n",
       "1                                                Yes                 \n",
       "2                                                 No                 \n",
       "3                                                Yes                 \n",
       "4                                                 No                 \n",
       "\n",
       "  How satisfied are you with water service management?  \\\n",
       "0                                          Satisfied     \n",
       "1                                          Satisfied     \n",
       "2                                          Satisfied     \n",
       "3                                          Satisfied     \n",
       "4                                          Satisfied     \n",
       "\n",
       "  Have NGOs/UN agencies implemented WASH projects in your area in the last 5 years?  \\\n",
       "0                                                Yes                                  \n",
       "1                                                Yes                                  \n",
       "2                                                Yes                                  \n",
       "3                                                Yes                                  \n",
       "4                                                Yes                                  \n",
       "\n",
       "  Impact on water access Impact on sanitation facilities  \\\n",
       "0                   High                             Low   \n",
       "1                   High                             Low   \n",
       "2                   High                        Moderate   \n",
       "3                   High                        Moderate   \n",
       "4                   High                        Moderate   \n",
       "\n",
       "  Impact on hygiene practices  \\\n",
       "0                         Low   \n",
       "1                         Low   \n",
       "2                    Moderate   \n",
       "3                         Low   \n",
       "4                    Moderate   \n",
       "\n",
       "  Any household member experienced diarrhea in past 3 months?  \\\n",
       "0                                                 No            \n",
       "1                                                 No            \n",
       "2                                                 No            \n",
       "3                                                 No            \n",
       "4                                                 No            \n",
       "\n",
       "  If yes, how many cases?  \\\n",
       "0                     NaN   \n",
       "1                     NaN   \n",
       "2                     NaN   \n",
       "3                     NaN   \n",
       "4                     NaN   \n",
       "\n",
       "  Has your community experienced a cholera outbreak in the past 12 months?  \n",
       "0                                                 No                        \n",
       "1                                                 No                        \n",
       "2                                                 No                        \n",
       "3                                                 No                        \n",
       "4                                                 No                        "
      ]
     },
     "execution_count": 219,
     "metadata": {},
     "output_type": "execute_result"
    }
   ],
   "source": [
    "df.head()"
   ]
  },
  {
   "cell_type": "code",
   "execution_count": null,
   "id": "8157a733",
   "metadata": {},
   "outputs": [],
   "source": []
  },
  {
   "cell_type": "code",
   "execution_count": 220,
   "id": "8bf093aa",
   "metadata": {},
   "outputs": [
    {
     "name": "stdout",
     "output_type": "stream",
     "text": [
      "Data Records:- 115\n",
      "Data Columns:- 32\n"
     ]
    }
   ],
   "source": [
    "print(f'Data Records:- {df.shape[0]}')\n",
    "print(f'Data Columns:- {df.shape[1]}')"
   ]
  },
  {
   "cell_type": "code",
   "execution_count": 221,
   "id": "96dc532a",
   "metadata": {},
   "outputs": [
    {
     "name": "stdout",
     "output_type": "stream",
     "text": [
      "<class 'pandas.core.frame.DataFrame'>\n",
      "RangeIndex: 115 entries, 0 to 114\n",
      "Data columns (total 32 columns):\n",
      " #   Column                                                                             Non-Null Count  Dtype  \n",
      "---  ------                                                                             --------------  -----  \n",
      " 0   Household ID                                                                       115 non-null    object \n",
      " 1   Gender of respondent                                                               115 non-null    object \n",
      " 2   Age of respondent                                                                  115 non-null    object \n",
      " 3   Household size                                                                     114 non-null    object \n",
      " 4   Main livelihood activity                                                           115 non-null    object \n",
      " 5   Main source of drinking water                                                      115 non-null    object \n",
      " 6   Walking time to water source                                                       115 non-null    object \n",
      " 7   Do you treat your drinking water?                                                  112 non-null    object \n",
      " 8   If yes, how?                                                                       8 non-null      object \n",
      " 9   If yes, how?/Boiling                                                               8 non-null      float64\n",
      " 10  If yes, how?/Chlorination                                                          8 non-null      float64\n",
      " 11  If yes, how?/Filtration                                                            8 non-null      float64\n",
      " 12  If yes, how?/Other                                                                 8 non-null      float64\n",
      " 13  Type of sanitation facility                                                        115 non-null    object \n",
      " 14  Handwashing facility present?                                                      115 non-null    object \n",
      " 15  If yes, is soap/ash available?                                                     65 non-null     object \n",
      " 16  Has your main water point broken down in the past year?                            109 non-null    object \n",
      " 17  If yes, average repair time                                                        89 non-null     object \n",
      " 18  Who usually pays for repairs?                                                      98 non-null     object \n",
      " 19  Have there been conflicts at water points?                                         115 non-null    object \n",
      " 20  Do you pay for water use?                                                          115 non-null    object \n",
      " 21  If yes, payment frequency                                                          68 non-null     object \n",
      " 22  Is there a water committee in your area?                                           115 non-null    object \n",
      " 23  Do you or a household member participate in the water committee?                   115 non-null    object \n",
      " 24  How satisfied are you with water service management?                               106 non-null    object \n",
      " 25  Have NGOs/UN agencies implemented WASH projects in your area in the last 5 years?  115 non-null    object \n",
      " 26  Impact on water access                                                             115 non-null    object \n",
      " 27  Impact on sanitation facilities                                                    115 non-null    object \n",
      " 28  Impact on hygiene practices                                                        115 non-null    object \n",
      " 29  Any household member experienced diarrhea in past 3 months?                        115 non-null    object \n",
      " 30  If yes, how many cases?                                                            29 non-null     object \n",
      " 31  Has your community experienced a cholera outbreak in the past 12 months?           115 non-null    object \n",
      "dtypes: float64(4), object(28)\n",
      "memory usage: 28.9+ KB\n"
     ]
    }
   ],
   "source": [
    "df.info()"
   ]
  },
  {
   "cell_type": "markdown",
   "id": "f9155ca4",
   "metadata": {},
   "source": [
    "### 📌 Step 2: Identifying Missing Values in Columns\n",
    "\n",
    "In this step, we examine the dataset to detect any missing values across columns.\n",
    "This helps us understand which features need cleaning or imputation."
   ]
  },
  {
   "cell_type": "code",
   "execution_count": 222,
   "id": "45ba8ef2",
   "metadata": {},
   "outputs": [],
   "source": [
    "df['Household_identify'] = df['Household ID'].str.extract(r'([A-Za-z]+)')"
   ]
  },
  {
   "cell_type": "code",
   "execution_count": 223,
   "id": "7de12ff6",
   "metadata": {},
   "outputs": [
    {
     "data": {
      "text/plain": [
       "Household size                                               1\n",
       "Do you treat your drinking water?                            3\n",
       "If yes, how?                                               107\n",
       "If yes, how?/Boiling                                       107\n",
       "If yes, how?/Chlorination                                  107\n",
       "If yes, how?/Filtration                                    107\n",
       "If yes, how?/Other                                         107\n",
       "If yes, is soap/ash available?                              50\n",
       "Has your main water point broken down in the past year?      6\n",
       "If yes, average repair time                                 26\n",
       "Who usually pays for repairs?                               17\n",
       "If yes, payment frequency                                   47\n",
       "How satisfied are you with water service management?         9\n",
       "If yes, how many cases?                                     86\n",
       "dtype: int64"
      ]
     },
     "execution_count": 223,
     "metadata": {},
     "output_type": "execute_result"
    }
   ],
   "source": [
    "missing_values = df.isnull().sum()\n",
    "missing_values[missing_values > 0]"
   ]
  },
  {
   "cell_type": "code",
   "execution_count": 224,
   "id": "91978479",
   "metadata": {},
   "outputs": [
    {
     "data": {
      "text/html": [
       "<div>\n",
       "<style scoped>\n",
       "    .dataframe tbody tr th:only-of-type {\n",
       "        vertical-align: middle;\n",
       "    }\n",
       "\n",
       "    .dataframe tbody tr th {\n",
       "        vertical-align: top;\n",
       "    }\n",
       "\n",
       "    .dataframe thead th {\n",
       "        text-align: right;\n",
       "    }\n",
       "</style>\n",
       "<table border=\"1\" class=\"dataframe\">\n",
       "  <thead>\n",
       "    <tr style=\"text-align: right;\">\n",
       "      <th></th>\n",
       "      <th>Household ID</th>\n",
       "      <th>Gender of respondent</th>\n",
       "      <th>Age of respondent</th>\n",
       "      <th>Household size</th>\n",
       "      <th>Main livelihood activity</th>\n",
       "      <th>Main source of drinking water</th>\n",
       "      <th>Walking time to water source</th>\n",
       "      <th>Do you treat your drinking water?</th>\n",
       "      <th>If yes, how?</th>\n",
       "      <th>If yes, how?/Boiling</th>\n",
       "      <th>If yes, how?/Chlorination</th>\n",
       "      <th>If yes, how?/Filtration</th>\n",
       "      <th>If yes, how?/Other</th>\n",
       "      <th>Type of sanitation facility</th>\n",
       "      <th>Handwashing facility present?</th>\n",
       "      <th>If yes, is soap/ash available?</th>\n",
       "      <th>Has your main water point broken down in the past year?</th>\n",
       "      <th>If yes, average repair time</th>\n",
       "      <th>Who usually pays for repairs?</th>\n",
       "      <th>Have there been conflicts at water points?</th>\n",
       "      <th>Do you pay for water use?</th>\n",
       "      <th>If yes, payment frequency</th>\n",
       "      <th>Is there a water committee in your area?</th>\n",
       "      <th>Do you or a household member participate in the water committee?</th>\n",
       "      <th>How satisfied are you with water service management?</th>\n",
       "      <th>Have NGOs/UN agencies implemented WASH projects in your area in the last 5 years?</th>\n",
       "      <th>Impact on water access</th>\n",
       "      <th>Impact on sanitation facilities</th>\n",
       "      <th>Impact on hygiene practices</th>\n",
       "      <th>Any household member experienced diarrhea in past 3 months?</th>\n",
       "      <th>If yes, how many cases?</th>\n",
       "      <th>Has your community experienced a cholera outbreak in the past 12 months?</th>\n",
       "      <th>Household_identify</th>\n",
       "    </tr>\n",
       "  </thead>\n",
       "  <tbody>\n",
       "    <tr>\n",
       "      <th>0</th>\n",
       "      <td>PU001</td>\n",
       "      <td>Male</td>\n",
       "      <td>31–45</td>\n",
       "      <td>7–9</td>\n",
       "      <td>Business</td>\n",
       "      <td>Trucked water</td>\n",
       "      <td>15–30 min</td>\n",
       "      <td>No</td>\n",
       "      <td>NaN</td>\n",
       "      <td>NaN</td>\n",
       "      <td>NaN</td>\n",
       "      <td>NaN</td>\n",
       "      <td>NaN</td>\n",
       "      <td>Improved latrine</td>\n",
       "      <td>No</td>\n",
       "      <td>NaN</td>\n",
       "      <td>No</td>\n",
       "      <td>NaN</td>\n",
       "      <td>Other</td>\n",
       "      <td>No</td>\n",
       "      <td>Yes</td>\n",
       "      <td>Monthly</td>\n",
       "      <td>No</td>\n",
       "      <td>No</td>\n",
       "      <td>Satisfied</td>\n",
       "      <td>Yes</td>\n",
       "      <td>High</td>\n",
       "      <td>Low</td>\n",
       "      <td>Low</td>\n",
       "      <td>No</td>\n",
       "      <td>NaN</td>\n",
       "      <td>No</td>\n",
       "      <td>PU</td>\n",
       "    </tr>\n",
       "    <tr>\n",
       "      <th>1</th>\n",
       "      <td>PU002</td>\n",
       "      <td>Male</td>\n",
       "      <td>31–45</td>\n",
       "      <td>4–6</td>\n",
       "      <td>Casual labor</td>\n",
       "      <td>Shallow well</td>\n",
       "      <td>&lt;15 min</td>\n",
       "      <td>No</td>\n",
       "      <td>NaN</td>\n",
       "      <td>NaN</td>\n",
       "      <td>NaN</td>\n",
       "      <td>NaN</td>\n",
       "      <td>NaN</td>\n",
       "      <td>Improved latrine</td>\n",
       "      <td>No</td>\n",
       "      <td>NaN</td>\n",
       "      <td>No</td>\n",
       "      <td>&lt;1 week</td>\n",
       "      <td>Community</td>\n",
       "      <td>Yes</td>\n",
       "      <td>Yes</td>\n",
       "      <td>Monthly</td>\n",
       "      <td>Yes</td>\n",
       "      <td>Yes</td>\n",
       "      <td>Satisfied</td>\n",
       "      <td>Yes</td>\n",
       "      <td>High</td>\n",
       "      <td>Low</td>\n",
       "      <td>Low</td>\n",
       "      <td>No</td>\n",
       "      <td>NaN</td>\n",
       "      <td>No</td>\n",
       "      <td>PU</td>\n",
       "    </tr>\n",
       "    <tr>\n",
       "      <th>2</th>\n",
       "      <td>PU003</td>\n",
       "      <td>Male</td>\n",
       "      <td>18–30</td>\n",
       "      <td>1–3</td>\n",
       "      <td>Business</td>\n",
       "      <td>Shallow well</td>\n",
       "      <td>&lt;15 min</td>\n",
       "      <td>No</td>\n",
       "      <td>NaN</td>\n",
       "      <td>NaN</td>\n",
       "      <td>NaN</td>\n",
       "      <td>NaN</td>\n",
       "      <td>NaN</td>\n",
       "      <td>Improved latrine</td>\n",
       "      <td>No</td>\n",
       "      <td>NaN</td>\n",
       "      <td>Yes</td>\n",
       "      <td>&lt;1 week</td>\n",
       "      <td>NaN</td>\n",
       "      <td>No</td>\n",
       "      <td>Yes</td>\n",
       "      <td>Monthly</td>\n",
       "      <td>No</td>\n",
       "      <td>No</td>\n",
       "      <td>Satisfied</td>\n",
       "      <td>Yes</td>\n",
       "      <td>High</td>\n",
       "      <td>Moderate</td>\n",
       "      <td>Moderate</td>\n",
       "      <td>No</td>\n",
       "      <td>NaN</td>\n",
       "      <td>No</td>\n",
       "      <td>PU</td>\n",
       "    </tr>\n",
       "    <tr>\n",
       "      <th>3</th>\n",
       "      <td>PU004</td>\n",
       "      <td>Female</td>\n",
       "      <td>31–45</td>\n",
       "      <td>7–9</td>\n",
       "      <td>Other</td>\n",
       "      <td>Shallow well</td>\n",
       "      <td>&lt;15 min</td>\n",
       "      <td>No</td>\n",
       "      <td>NaN</td>\n",
       "      <td>NaN</td>\n",
       "      <td>NaN</td>\n",
       "      <td>NaN</td>\n",
       "      <td>NaN</td>\n",
       "      <td>Improved latrine</td>\n",
       "      <td>No</td>\n",
       "      <td>Sometimes</td>\n",
       "      <td>No</td>\n",
       "      <td>NaN</td>\n",
       "      <td>NaN</td>\n",
       "      <td>No</td>\n",
       "      <td>Yes</td>\n",
       "      <td>Weekly</td>\n",
       "      <td>No</td>\n",
       "      <td>Yes</td>\n",
       "      <td>Satisfied</td>\n",
       "      <td>Yes</td>\n",
       "      <td>High</td>\n",
       "      <td>Moderate</td>\n",
       "      <td>Low</td>\n",
       "      <td>No</td>\n",
       "      <td>NaN</td>\n",
       "      <td>No</td>\n",
       "      <td>PU</td>\n",
       "    </tr>\n",
       "    <tr>\n",
       "      <th>4</th>\n",
       "      <td>PU005</td>\n",
       "      <td>Female</td>\n",
       "      <td>46–60</td>\n",
       "      <td>4–6</td>\n",
       "      <td>Business</td>\n",
       "      <td>Shallow well</td>\n",
       "      <td>&lt;15 min</td>\n",
       "      <td>No</td>\n",
       "      <td>NaN</td>\n",
       "      <td>NaN</td>\n",
       "      <td>NaN</td>\n",
       "      <td>NaN</td>\n",
       "      <td>NaN</td>\n",
       "      <td>Improved latrine</td>\n",
       "      <td>No</td>\n",
       "      <td>Sometimes</td>\n",
       "      <td>No</td>\n",
       "      <td>NaN</td>\n",
       "      <td>Private vendor</td>\n",
       "      <td>No</td>\n",
       "      <td>Yes</td>\n",
       "      <td>Monthly</td>\n",
       "      <td>No</td>\n",
       "      <td>No</td>\n",
       "      <td>Satisfied</td>\n",
       "      <td>Yes</td>\n",
       "      <td>High</td>\n",
       "      <td>Moderate</td>\n",
       "      <td>Moderate</td>\n",
       "      <td>No</td>\n",
       "      <td>NaN</td>\n",
       "      <td>No</td>\n",
       "      <td>PU</td>\n",
       "    </tr>\n",
       "  </tbody>\n",
       "</table>\n",
       "</div>"
      ],
      "text/plain": [
       "  Household ID Gender of respondent Age of respondent Household size  \\\n",
       "0        PU001                 Male             31–45            7–9   \n",
       "1        PU002                 Male             31–45            4–6   \n",
       "2        PU003                 Male             18–30            1–3   \n",
       "3        PU004               Female             31–45            7–9   \n",
       "4        PU005               Female             46–60            4–6   \n",
       "\n",
       "  Main livelihood activity Main source of drinking water  \\\n",
       "0                 Business                 Trucked water   \n",
       "1             Casual labor                  Shallow well   \n",
       "2                 Business                  Shallow well   \n",
       "3                    Other                  Shallow well   \n",
       "4                 Business                  Shallow well   \n",
       "\n",
       "  Walking time to water source Do you treat your drinking water? If yes, how?  \\\n",
       "0                    15–30 min                                No          NaN   \n",
       "1                      <15 min                                No          NaN   \n",
       "2                      <15 min                                No          NaN   \n",
       "3                      <15 min                                No          NaN   \n",
       "4                      <15 min                                No          NaN   \n",
       "\n",
       "   If yes, how?/Boiling  If yes, how?/Chlorination  If yes, how?/Filtration  \\\n",
       "0                   NaN                        NaN                      NaN   \n",
       "1                   NaN                        NaN                      NaN   \n",
       "2                   NaN                        NaN                      NaN   \n",
       "3                   NaN                        NaN                      NaN   \n",
       "4                   NaN                        NaN                      NaN   \n",
       "\n",
       "   If yes, how?/Other Type of sanitation facility  \\\n",
       "0                 NaN            Improved latrine   \n",
       "1                 NaN            Improved latrine   \n",
       "2                 NaN            Improved latrine   \n",
       "3                 NaN            Improved latrine   \n",
       "4                 NaN            Improved latrine   \n",
       "\n",
       "  Handwashing facility present? If yes, is soap/ash available?  \\\n",
       "0                            No                            NaN   \n",
       "1                            No                            NaN   \n",
       "2                            No                            NaN   \n",
       "3                            No                      Sometimes   \n",
       "4                            No                      Sometimes   \n",
       "\n",
       "  Has your main water point broken down in the past year?  \\\n",
       "0                                                 No        \n",
       "1                                                 No        \n",
       "2                                                Yes        \n",
       "3                                                 No        \n",
       "4                                                 No        \n",
       "\n",
       "  If yes, average repair time Who usually pays for repairs?  \\\n",
       "0                         NaN                         Other   \n",
       "1                     <1 week                     Community   \n",
       "2                     <1 week                           NaN   \n",
       "3                         NaN                           NaN   \n",
       "4                         NaN                Private vendor   \n",
       "\n",
       "  Have there been conflicts at water points? Do you pay for water use?  \\\n",
       "0                                         No                       Yes   \n",
       "1                                        Yes                       Yes   \n",
       "2                                         No                       Yes   \n",
       "3                                         No                       Yes   \n",
       "4                                         No                       Yes   \n",
       "\n",
       "  If yes, payment frequency Is there a water committee in your area?  \\\n",
       "0                   Monthly                                       No   \n",
       "1                   Monthly                                      Yes   \n",
       "2                   Monthly                                       No   \n",
       "3                    Weekly                                       No   \n",
       "4                   Monthly                                       No   \n",
       "\n",
       "  Do you or a household member participate in the water committee?  \\\n",
       "0                                                 No                 \n",
       "1                                                Yes                 \n",
       "2                                                 No                 \n",
       "3                                                Yes                 \n",
       "4                                                 No                 \n",
       "\n",
       "  How satisfied are you with water service management?  \\\n",
       "0                                          Satisfied     \n",
       "1                                          Satisfied     \n",
       "2                                          Satisfied     \n",
       "3                                          Satisfied     \n",
       "4                                          Satisfied     \n",
       "\n",
       "  Have NGOs/UN agencies implemented WASH projects in your area in the last 5 years?  \\\n",
       "0                                                Yes                                  \n",
       "1                                                Yes                                  \n",
       "2                                                Yes                                  \n",
       "3                                                Yes                                  \n",
       "4                                                Yes                                  \n",
       "\n",
       "  Impact on water access Impact on sanitation facilities  \\\n",
       "0                   High                             Low   \n",
       "1                   High                             Low   \n",
       "2                   High                        Moderate   \n",
       "3                   High                        Moderate   \n",
       "4                   High                        Moderate   \n",
       "\n",
       "  Impact on hygiene practices  \\\n",
       "0                         Low   \n",
       "1                         Low   \n",
       "2                    Moderate   \n",
       "3                         Low   \n",
       "4                    Moderate   \n",
       "\n",
       "  Any household member experienced diarrhea in past 3 months?  \\\n",
       "0                                                 No            \n",
       "1                                                 No            \n",
       "2                                                 No            \n",
       "3                                                 No            \n",
       "4                                                 No            \n",
       "\n",
       "  If yes, how many cases?  \\\n",
       "0                     NaN   \n",
       "1                     NaN   \n",
       "2                     NaN   \n",
       "3                     NaN   \n",
       "4                     NaN   \n",
       "\n",
       "  Has your community experienced a cholera outbreak in the past 12 months?  \\\n",
       "0                                                 No                         \n",
       "1                                                 No                         \n",
       "2                                                 No                         \n",
       "3                                                 No                         \n",
       "4                                                 No                         \n",
       "\n",
       "  Household_identify  \n",
       "0                 PU  \n",
       "1                 PU  \n",
       "2                 PU  \n",
       "3                 PU  \n",
       "4                 PU  "
      ]
     },
     "execution_count": 224,
     "metadata": {},
     "output_type": "execute_result"
    }
   ],
   "source": [
    "df.head()"
   ]
  },
  {
   "cell_type": "code",
   "execution_count": 225,
   "id": "12be395b",
   "metadata": {},
   "outputs": [],
   "source": [
    "df['Household size'] = df.groupby('Household_identify')['Household size'] \\\n",
    "                         .transform(lambda x: x.fillna(x.mode()[0] if not x.mode().empty else 'Unknown'))"
   ]
  },
  {
   "cell_type": "code",
   "execution_count": 226,
   "id": "cffc12f2",
   "metadata": {},
   "outputs": [
    {
     "data": {
      "text/html": [
       "<div>\n",
       "<style scoped>\n",
       "    .dataframe tbody tr th:only-of-type {\n",
       "        vertical-align: middle;\n",
       "    }\n",
       "\n",
       "    .dataframe tbody tr th {\n",
       "        vertical-align: top;\n",
       "    }\n",
       "\n",
       "    .dataframe thead th {\n",
       "        text-align: right;\n",
       "    }\n",
       "</style>\n",
       "<table border=\"1\" class=\"dataframe\">\n",
       "  <thead>\n",
       "    <tr style=\"text-align: right;\">\n",
       "      <th></th>\n",
       "      <th>Household ID</th>\n",
       "      <th>Gender of respondent</th>\n",
       "      <th>Age of respondent</th>\n",
       "      <th>Household size</th>\n",
       "      <th>Main livelihood activity</th>\n",
       "      <th>Main source of drinking water</th>\n",
       "      <th>Walking time to water source</th>\n",
       "      <th>Do you treat your drinking water?</th>\n",
       "      <th>If yes, how?</th>\n",
       "      <th>If yes, how?/Boiling</th>\n",
       "      <th>If yes, how?/Chlorination</th>\n",
       "      <th>If yes, how?/Filtration</th>\n",
       "      <th>If yes, how?/Other</th>\n",
       "      <th>Type of sanitation facility</th>\n",
       "      <th>Handwashing facility present?</th>\n",
       "      <th>If yes, is soap/ash available?</th>\n",
       "      <th>Has your main water point broken down in the past year?</th>\n",
       "      <th>If yes, average repair time</th>\n",
       "      <th>Who usually pays for repairs?</th>\n",
       "      <th>Have there been conflicts at water points?</th>\n",
       "      <th>Do you pay for water use?</th>\n",
       "      <th>If yes, payment frequency</th>\n",
       "      <th>Is there a water committee in your area?</th>\n",
       "      <th>Do you or a household member participate in the water committee?</th>\n",
       "      <th>How satisfied are you with water service management?</th>\n",
       "      <th>Have NGOs/UN agencies implemented WASH projects in your area in the last 5 years?</th>\n",
       "      <th>Impact on water access</th>\n",
       "      <th>Impact on sanitation facilities</th>\n",
       "      <th>Impact on hygiene practices</th>\n",
       "      <th>Any household member experienced diarrhea in past 3 months?</th>\n",
       "      <th>If yes, how many cases?</th>\n",
       "      <th>Has your community experienced a cholera outbreak in the past 12 months?</th>\n",
       "      <th>Household_identify</th>\n",
       "    </tr>\n",
       "  </thead>\n",
       "  <tbody>\n",
       "    <tr>\n",
       "      <th>58</th>\n",
       "      <td>R031</td>\n",
       "      <td>Female</td>\n",
       "      <td>31–45</td>\n",
       "      <td>4–6</td>\n",
       "      <td>Farming</td>\n",
       "      <td>Shallow well</td>\n",
       "      <td>15–30 min</td>\n",
       "      <td>Yes</td>\n",
       "      <td>NaN</td>\n",
       "      <td>NaN</td>\n",
       "      <td>NaN</td>\n",
       "      <td>NaN</td>\n",
       "      <td>NaN</td>\n",
       "      <td>Shared latrine</td>\n",
       "      <td>No</td>\n",
       "      <td>Never</td>\n",
       "      <td>Yes</td>\n",
       "      <td>2–4 weeks</td>\n",
       "      <td>Community</td>\n",
       "      <td>Yes</td>\n",
       "      <td>No</td>\n",
       "      <td>NaN</td>\n",
       "      <td>Yes</td>\n",
       "      <td>No</td>\n",
       "      <td>Satisfied</td>\n",
       "      <td>Yes</td>\n",
       "      <td>Low</td>\n",
       "      <td>Low</td>\n",
       "      <td>Low</td>\n",
       "      <td>No</td>\n",
       "      <td>NaN</td>\n",
       "      <td>No</td>\n",
       "      <td>R</td>\n",
       "    </tr>\n",
       "    <tr>\n",
       "      <th>101</th>\n",
       "      <td>IDP042</td>\n",
       "      <td>Female</td>\n",
       "      <td>31–45</td>\n",
       "      <td>4–6</td>\n",
       "      <td>Farming</td>\n",
       "      <td>Shallow well</td>\n",
       "      <td>&lt;15 min</td>\n",
       "      <td>Yes</td>\n",
       "      <td>NaN</td>\n",
       "      <td>NaN</td>\n",
       "      <td>NaN</td>\n",
       "      <td>NaN</td>\n",
       "      <td>NaN</td>\n",
       "      <td>Unimproved latrine</td>\n",
       "      <td>Yes</td>\n",
       "      <td>Never</td>\n",
       "      <td>Yes</td>\n",
       "      <td>1–2 weeks</td>\n",
       "      <td>NGO</td>\n",
       "      <td>No</td>\n",
       "      <td>No</td>\n",
       "      <td>NaN</td>\n",
       "      <td>Yes</td>\n",
       "      <td>No</td>\n",
       "      <td>Dissatisfied</td>\n",
       "      <td>Yes</td>\n",
       "      <td>High</td>\n",
       "      <td>Moderate</td>\n",
       "      <td>Moderate</td>\n",
       "      <td>No</td>\n",
       "      <td>NaN</td>\n",
       "      <td>No</td>\n",
       "      <td>IDP</td>\n",
       "    </tr>\n",
       "    <tr>\n",
       "      <th>109</th>\n",
       "      <td>IDP050</td>\n",
       "      <td>Male</td>\n",
       "      <td>46–60</td>\n",
       "      <td>4–6</td>\n",
       "      <td>Business</td>\n",
       "      <td>Shallow well</td>\n",
       "      <td>&lt;15 min</td>\n",
       "      <td>Yes</td>\n",
       "      <td>NaN</td>\n",
       "      <td>NaN</td>\n",
       "      <td>NaN</td>\n",
       "      <td>NaN</td>\n",
       "      <td>NaN</td>\n",
       "      <td>Shared latrine</td>\n",
       "      <td>No</td>\n",
       "      <td>NaN</td>\n",
       "      <td>Yes</td>\n",
       "      <td>1–2 weeks</td>\n",
       "      <td>Local authority</td>\n",
       "      <td>Yes</td>\n",
       "      <td>No</td>\n",
       "      <td>NaN</td>\n",
       "      <td>Yes</td>\n",
       "      <td>Yes</td>\n",
       "      <td>Satisfied</td>\n",
       "      <td>Yes</td>\n",
       "      <td>Low</td>\n",
       "      <td>Low</td>\n",
       "      <td>Low</td>\n",
       "      <td>No</td>\n",
       "      <td>NaN</td>\n",
       "      <td>No</td>\n",
       "      <td>IDP</td>\n",
       "    </tr>\n",
       "    <tr>\n",
       "      <th>110</th>\n",
       "      <td>IDP051</td>\n",
       "      <td>Male</td>\n",
       "      <td>31–45</td>\n",
       "      <td>4–6</td>\n",
       "      <td>Casual labor</td>\n",
       "      <td>Shallow well</td>\n",
       "      <td>&lt;15 min</td>\n",
       "      <td>Yes</td>\n",
       "      <td>NaN</td>\n",
       "      <td>NaN</td>\n",
       "      <td>NaN</td>\n",
       "      <td>NaN</td>\n",
       "      <td>NaN</td>\n",
       "      <td>Shared latrine</td>\n",
       "      <td>No</td>\n",
       "      <td>Never</td>\n",
       "      <td>Yes</td>\n",
       "      <td>1–2 weeks</td>\n",
       "      <td>Local authority</td>\n",
       "      <td>Yes</td>\n",
       "      <td>No</td>\n",
       "      <td>NaN</td>\n",
       "      <td>Yes</td>\n",
       "      <td>No</td>\n",
       "      <td>Dissatisfied</td>\n",
       "      <td>Yes</td>\n",
       "      <td>Low</td>\n",
       "      <td>Low</td>\n",
       "      <td>Low</td>\n",
       "      <td>No</td>\n",
       "      <td>NaN</td>\n",
       "      <td>No</td>\n",
       "      <td>IDP</td>\n",
       "    </tr>\n",
       "  </tbody>\n",
       "</table>\n",
       "</div>"
      ],
      "text/plain": [
       "    Household ID Gender of respondent Age of respondent Household size  \\\n",
       "58          R031               Female             31–45            4–6   \n",
       "101       IDP042               Female             31–45            4–6   \n",
       "109       IDP050                 Male             46–60            4–6   \n",
       "110       IDP051                 Male             31–45            4–6   \n",
       "\n",
       "    Main livelihood activity Main source of drinking water  \\\n",
       "58                   Farming                  Shallow well   \n",
       "101                  Farming                  Shallow well   \n",
       "109                 Business                  Shallow well   \n",
       "110             Casual labor                  Shallow well   \n",
       "\n",
       "    Walking time to water source Do you treat your drinking water?  \\\n",
       "58                     15–30 min                               Yes   \n",
       "101                      <15 min                               Yes   \n",
       "109                      <15 min                               Yes   \n",
       "110                      <15 min                               Yes   \n",
       "\n",
       "    If yes, how?  If yes, how?/Boiling  If yes, how?/Chlorination  \\\n",
       "58           NaN                   NaN                        NaN   \n",
       "101          NaN                   NaN                        NaN   \n",
       "109          NaN                   NaN                        NaN   \n",
       "110          NaN                   NaN                        NaN   \n",
       "\n",
       "     If yes, how?/Filtration  If yes, how?/Other Type of sanitation facility  \\\n",
       "58                       NaN                 NaN              Shared latrine   \n",
       "101                      NaN                 NaN          Unimproved latrine   \n",
       "109                      NaN                 NaN              Shared latrine   \n",
       "110                      NaN                 NaN              Shared latrine   \n",
       "\n",
       "    Handwashing facility present? If yes, is soap/ash available?  \\\n",
       "58                             No                          Never   \n",
       "101                           Yes                          Never   \n",
       "109                            No                            NaN   \n",
       "110                            No                          Never   \n",
       "\n",
       "    Has your main water point broken down in the past year?  \\\n",
       "58                                                 Yes        \n",
       "101                                                Yes        \n",
       "109                                                Yes        \n",
       "110                                                Yes        \n",
       "\n",
       "    If yes, average repair time Who usually pays for repairs?  \\\n",
       "58                    2–4 weeks                     Community   \n",
       "101                   1–2 weeks                           NGO   \n",
       "109                   1–2 weeks               Local authority   \n",
       "110                   1–2 weeks               Local authority   \n",
       "\n",
       "    Have there been conflicts at water points? Do you pay for water use?  \\\n",
       "58                                         Yes                        No   \n",
       "101                                         No                        No   \n",
       "109                                        Yes                        No   \n",
       "110                                        Yes                        No   \n",
       "\n",
       "    If yes, payment frequency Is there a water committee in your area?  \\\n",
       "58                        NaN                                      Yes   \n",
       "101                       NaN                                      Yes   \n",
       "109                       NaN                                      Yes   \n",
       "110                       NaN                                      Yes   \n",
       "\n",
       "    Do you or a household member participate in the water committee?  \\\n",
       "58                                                  No                 \n",
       "101                                                 No                 \n",
       "109                                                Yes                 \n",
       "110                                                 No                 \n",
       "\n",
       "    How satisfied are you with water service management?  \\\n",
       "58                                           Satisfied     \n",
       "101                                       Dissatisfied     \n",
       "109                                          Satisfied     \n",
       "110                                       Dissatisfied     \n",
       "\n",
       "    Have NGOs/UN agencies implemented WASH projects in your area in the last 5 years?  \\\n",
       "58                                                 Yes                                  \n",
       "101                                                Yes                                  \n",
       "109                                                Yes                                  \n",
       "110                                                Yes                                  \n",
       "\n",
       "    Impact on water access Impact on sanitation facilities  \\\n",
       "58                     Low                             Low   \n",
       "101                   High                        Moderate   \n",
       "109                    Low                             Low   \n",
       "110                    Low                             Low   \n",
       "\n",
       "    Impact on hygiene practices  \\\n",
       "58                          Low   \n",
       "101                    Moderate   \n",
       "109                         Low   \n",
       "110                         Low   \n",
       "\n",
       "    Any household member experienced diarrhea in past 3 months?  \\\n",
       "58                                                  No            \n",
       "101                                                 No            \n",
       "109                                                 No            \n",
       "110                                                 No            \n",
       "\n",
       "    If yes, how many cases?  \\\n",
       "58                      NaN   \n",
       "101                     NaN   \n",
       "109                     NaN   \n",
       "110                     NaN   \n",
       "\n",
       "    Has your community experienced a cholera outbreak in the past 12 months?  \\\n",
       "58                                                  No                         \n",
       "101                                                 No                         \n",
       "109                                                 No                         \n",
       "110                                                 No                         \n",
       "\n",
       "    Household_identify  \n",
       "58                   R  \n",
       "101                IDP  \n",
       "109                IDP  \n",
       "110                IDP  "
      ]
     },
     "execution_count": 226,
     "metadata": {},
     "output_type": "execute_result"
    }
   ],
   "source": [
    "df.loc[(df['If yes, how?'].isnull()) & (df['Do you treat your drinking water?'] =='Yes')]"
   ]
  },
  {
   "cell_type": "markdown",
   "id": "56c71585",
   "metadata": {},
   "source": [
    "#### Explanation:\n",
    "> \n",
    ">In the dataset, there are potential inconsistencies in responses to the drinking water questions. Some respondents answered \"No\" to “Do you treat your drinking water?”, yet still provided a method in the follow-up question “If yes, how?”, which is logically inconsistent.\n",
    "\n",
    ">Additionally, for some respondents, the main question “Do you treat your drinking water?” is missing (null), and the follow-up question is left blank. In these cases, it is reasonable to assume that the respondents do not treat their drinking water.\n",
    "\n",
    ">To ensure data consistency, we can:\n",
    "\n",
    ">Identify inconsistent responses where the main question is \"No\" but the follow-up has a value.\n",
    "\n",
    ">Impute missing values in the main question with \"No\" when the follow-up is blank.\n",
    "\n",
    ">This approach helps maintain accurate and clean data, ensuring the dataset reflects respondents’ behavior correctly."
   ]
  },
  {
   "cell_type": "code",
   "execution_count": 227,
   "id": "77cbd410",
   "metadata": {},
   "outputs": [],
   "source": [
    "df.loc[(df['Do you treat your drinking water?']=='No') & (df['If yes, how?'].notnull()), \n",
    "       'Do you treat your drinking water?'] ='Yes'\n",
    "\n",
    "df.loc[(df['If yes, how?'].isnull()) & (df['Do you treat your drinking water?'] =='Yes'), \n",
    "   'Do you treat your drinking water?'] = 'No'\n",
    "\n",
    "df.loc[df['Do you treat your drinking water?'].isnull(), 'Do you treat your drinking water?'] ='No'\n",
    "\n",
    "df.loc[df['If yes, how?'].isnull(), 'If yes, how?'] =\"Not Applicable\""
   ]
  },
  {
   "cell_type": "code",
   "execution_count": 228,
   "id": "74e7e2ba",
   "metadata": {},
   "outputs": [],
   "source": [
    "df.loc[(df['Handwashing facility present?'] =='No') & (df['If yes, is soap/ash available?'] =='Sometimes'), \n",
    "      'Handwashing facility present?'] ='Yes'"
   ]
  },
  {
   "cell_type": "code",
   "execution_count": 229,
   "id": "77c87810",
   "metadata": {},
   "outputs": [],
   "source": [
    "df.loc[(df['Has your main water point broken down in the past year?']=='No') & \n",
    "       (df['If yes, average repair time'].notnull()), 'Has your main water point broken down in the past year?'] ='Yes'\n",
    "\n",
    "df.loc[df['Has your main water point broken down in the past year?'].isnull(), \n",
    "       'Has your main water point broken down in the past year?'] = 'No'\n",
    "\n",
    "\n",
    "df.loc[(df['If yes, average repair time'].notnull()) & (df['Who usually pays for repairs?'].isnull()), \n",
    "       'Who usually pays for repairs?'] ='Community'\n"
   ]
  },
  {
   "cell_type": "code",
   "execution_count": 230,
   "id": "c8cc69cb",
   "metadata": {},
   "outputs": [],
   "source": [
    "df.loc[(df['Do you pay for water use?']=='No') & (df['If yes, payment frequency'].notnull()), \n",
    "      'Do you pay for water use?'] ='Yes'\n"
   ]
  },
  {
   "cell_type": "code",
   "execution_count": 231,
   "id": "76f0de1c",
   "metadata": {},
   "outputs": [],
   "source": [
    "df['How satisfied are you with water service management?'] = df.groupby('Household_identify')[\n",
    "    'How satisfied are you with water service management?'\n",
    "].transform(lambda x: x.fillna(x.mode()[0] if not x.mode().empty else 'Satisfied'))"
   ]
  },
  {
   "cell_type": "code",
   "execution_count": null,
   "id": "8e72cf00",
   "metadata": {},
   "outputs": [],
   "source": []
  },
  {
   "cell_type": "code",
   "execution_count": null,
   "id": "8ea9ce90",
   "metadata": {},
   "outputs": [],
   "source": []
  },
  {
   "cell_type": "markdown",
   "id": "efe615b7",
   "metadata": {},
   "source": [
    "  "
   ]
  },
  {
   "cell_type": "code",
   "execution_count": 236,
   "id": "7882e5b9",
   "metadata": {},
   "outputs": [
    {
     "data": {
      "text/html": [
       "<div>\n",
       "<style scoped>\n",
       "    .dataframe tbody tr th:only-of-type {\n",
       "        vertical-align: middle;\n",
       "    }\n",
       "\n",
       "    .dataframe tbody tr th {\n",
       "        vertical-align: top;\n",
       "    }\n",
       "\n",
       "    .dataframe thead th {\n",
       "        text-align: right;\n",
       "    }\n",
       "</style>\n",
       "<table border=\"1\" class=\"dataframe\">\n",
       "  <thead>\n",
       "    <tr style=\"text-align: right;\">\n",
       "      <th></th>\n",
       "      <th>Household ID</th>\n",
       "      <th>Gender of respondent</th>\n",
       "      <th>Age of respondent</th>\n",
       "      <th>Household size</th>\n",
       "      <th>Main livelihood activity</th>\n",
       "      <th>Main source of drinking water</th>\n",
       "      <th>Walking time to water source</th>\n",
       "      <th>Do you treat your drinking water?</th>\n",
       "      <th>If yes, how?</th>\n",
       "      <th>If yes, how?/Boiling</th>\n",
       "      <th>If yes, how?/Chlorination</th>\n",
       "      <th>If yes, how?/Filtration</th>\n",
       "      <th>If yes, how?/Other</th>\n",
       "      <th>Type of sanitation facility</th>\n",
       "      <th>Handwashing facility present?</th>\n",
       "      <th>If yes, is soap/ash available?</th>\n",
       "      <th>Has your main water point broken down in the past year?</th>\n",
       "      <th>If yes, average repair time</th>\n",
       "      <th>Who usually pays for repairs?</th>\n",
       "      <th>Have there been conflicts at water points?</th>\n",
       "      <th>Do you pay for water use?</th>\n",
       "      <th>If yes, payment frequency</th>\n",
       "      <th>Is there a water committee in your area?</th>\n",
       "      <th>Do you or a household member participate in the water committee?</th>\n",
       "      <th>How satisfied are you with water service management?</th>\n",
       "      <th>Have NGOs/UN agencies implemented WASH projects in your area in the last 5 years?</th>\n",
       "      <th>Impact on water access</th>\n",
       "      <th>Impact on sanitation facilities</th>\n",
       "      <th>Impact on hygiene practices</th>\n",
       "      <th>Any household member experienced diarrhea in past 3 months?</th>\n",
       "      <th>If yes, how many cases?</th>\n",
       "      <th>Has your community experienced a cholera outbreak in the past 12 months?</th>\n",
       "      <th>Household_identify</th>\n",
       "    </tr>\n",
       "  </thead>\n",
       "  <tbody>\n",
       "    <tr>\n",
       "      <th>0</th>\n",
       "      <td>PU001</td>\n",
       "      <td>Male</td>\n",
       "      <td>31–45</td>\n",
       "      <td>7–9</td>\n",
       "      <td>Business</td>\n",
       "      <td>Trucked water</td>\n",
       "      <td>15–30 min</td>\n",
       "      <td>No</td>\n",
       "      <td>Not Applicable</td>\n",
       "      <td>NaN</td>\n",
       "      <td>NaN</td>\n",
       "      <td>NaN</td>\n",
       "      <td>NaN</td>\n",
       "      <td>Improved latrine</td>\n",
       "      <td>No</td>\n",
       "      <td>NaN</td>\n",
       "      <td>No</td>\n",
       "      <td>NaN</td>\n",
       "      <td>Other</td>\n",
       "      <td>No</td>\n",
       "      <td>Yes</td>\n",
       "      <td>Monthly</td>\n",
       "      <td>No</td>\n",
       "      <td>No</td>\n",
       "      <td>Satisfied</td>\n",
       "      <td>Yes</td>\n",
       "      <td>High</td>\n",
       "      <td>Low</td>\n",
       "      <td>Low</td>\n",
       "      <td>No</td>\n",
       "      <td>NaN</td>\n",
       "      <td>No</td>\n",
       "      <td>Pre-Urban</td>\n",
       "    </tr>\n",
       "    <tr>\n",
       "      <th>1</th>\n",
       "      <td>PU002</td>\n",
       "      <td>Male</td>\n",
       "      <td>31–45</td>\n",
       "      <td>4–6</td>\n",
       "      <td>Casual labor</td>\n",
       "      <td>Shallow well</td>\n",
       "      <td>&lt;15 min</td>\n",
       "      <td>No</td>\n",
       "      <td>Not Applicable</td>\n",
       "      <td>NaN</td>\n",
       "      <td>NaN</td>\n",
       "      <td>NaN</td>\n",
       "      <td>NaN</td>\n",
       "      <td>Improved latrine</td>\n",
       "      <td>No</td>\n",
       "      <td>NaN</td>\n",
       "      <td>Yes</td>\n",
       "      <td>&lt;1 week</td>\n",
       "      <td>Community</td>\n",
       "      <td>Yes</td>\n",
       "      <td>Yes</td>\n",
       "      <td>Monthly</td>\n",
       "      <td>Yes</td>\n",
       "      <td>Yes</td>\n",
       "      <td>Satisfied</td>\n",
       "      <td>Yes</td>\n",
       "      <td>High</td>\n",
       "      <td>Low</td>\n",
       "      <td>Low</td>\n",
       "      <td>No</td>\n",
       "      <td>NaN</td>\n",
       "      <td>No</td>\n",
       "      <td>Pre-Urban</td>\n",
       "    </tr>\n",
       "    <tr>\n",
       "      <th>2</th>\n",
       "      <td>PU003</td>\n",
       "      <td>Male</td>\n",
       "      <td>18–30</td>\n",
       "      <td>1–3</td>\n",
       "      <td>Business</td>\n",
       "      <td>Shallow well</td>\n",
       "      <td>&lt;15 min</td>\n",
       "      <td>No</td>\n",
       "      <td>Not Applicable</td>\n",
       "      <td>NaN</td>\n",
       "      <td>NaN</td>\n",
       "      <td>NaN</td>\n",
       "      <td>NaN</td>\n",
       "      <td>Improved latrine</td>\n",
       "      <td>No</td>\n",
       "      <td>NaN</td>\n",
       "      <td>Yes</td>\n",
       "      <td>&lt;1 week</td>\n",
       "      <td>Community</td>\n",
       "      <td>No</td>\n",
       "      <td>Yes</td>\n",
       "      <td>Monthly</td>\n",
       "      <td>No</td>\n",
       "      <td>No</td>\n",
       "      <td>Satisfied</td>\n",
       "      <td>Yes</td>\n",
       "      <td>High</td>\n",
       "      <td>Moderate</td>\n",
       "      <td>Moderate</td>\n",
       "      <td>No</td>\n",
       "      <td>NaN</td>\n",
       "      <td>No</td>\n",
       "      <td>Pre-Urban</td>\n",
       "    </tr>\n",
       "    <tr>\n",
       "      <th>3</th>\n",
       "      <td>PU004</td>\n",
       "      <td>Female</td>\n",
       "      <td>31–45</td>\n",
       "      <td>7–9</td>\n",
       "      <td>Other</td>\n",
       "      <td>Shallow well</td>\n",
       "      <td>&lt;15 min</td>\n",
       "      <td>No</td>\n",
       "      <td>Not Applicable</td>\n",
       "      <td>NaN</td>\n",
       "      <td>NaN</td>\n",
       "      <td>NaN</td>\n",
       "      <td>NaN</td>\n",
       "      <td>Improved latrine</td>\n",
       "      <td>Yes</td>\n",
       "      <td>Sometimes</td>\n",
       "      <td>No</td>\n",
       "      <td>NaN</td>\n",
       "      <td>NaN</td>\n",
       "      <td>No</td>\n",
       "      <td>Yes</td>\n",
       "      <td>Weekly</td>\n",
       "      <td>No</td>\n",
       "      <td>Yes</td>\n",
       "      <td>Satisfied</td>\n",
       "      <td>Yes</td>\n",
       "      <td>High</td>\n",
       "      <td>Moderate</td>\n",
       "      <td>Low</td>\n",
       "      <td>No</td>\n",
       "      <td>NaN</td>\n",
       "      <td>No</td>\n",
       "      <td>Pre-Urban</td>\n",
       "    </tr>\n",
       "    <tr>\n",
       "      <th>4</th>\n",
       "      <td>PU005</td>\n",
       "      <td>Female</td>\n",
       "      <td>46–60</td>\n",
       "      <td>4–6</td>\n",
       "      <td>Business</td>\n",
       "      <td>Shallow well</td>\n",
       "      <td>&lt;15 min</td>\n",
       "      <td>No</td>\n",
       "      <td>Not Applicable</td>\n",
       "      <td>NaN</td>\n",
       "      <td>NaN</td>\n",
       "      <td>NaN</td>\n",
       "      <td>NaN</td>\n",
       "      <td>Improved latrine</td>\n",
       "      <td>Yes</td>\n",
       "      <td>Sometimes</td>\n",
       "      <td>No</td>\n",
       "      <td>NaN</td>\n",
       "      <td>Private vendor</td>\n",
       "      <td>No</td>\n",
       "      <td>Yes</td>\n",
       "      <td>Monthly</td>\n",
       "      <td>No</td>\n",
       "      <td>No</td>\n",
       "      <td>Satisfied</td>\n",
       "      <td>Yes</td>\n",
       "      <td>High</td>\n",
       "      <td>Moderate</td>\n",
       "      <td>Moderate</td>\n",
       "      <td>No</td>\n",
       "      <td>NaN</td>\n",
       "      <td>No</td>\n",
       "      <td>Pre-Urban</td>\n",
       "    </tr>\n",
       "  </tbody>\n",
       "</table>\n",
       "</div>"
      ],
      "text/plain": [
       "  Household ID Gender of respondent Age of respondent Household size  \\\n",
       "0        PU001                 Male             31–45            7–9   \n",
       "1        PU002                 Male             31–45            4–6   \n",
       "2        PU003                 Male             18–30            1–3   \n",
       "3        PU004               Female             31–45            7–9   \n",
       "4        PU005               Female             46–60            4–6   \n",
       "\n",
       "  Main livelihood activity Main source of drinking water  \\\n",
       "0                 Business                 Trucked water   \n",
       "1             Casual labor                  Shallow well   \n",
       "2                 Business                  Shallow well   \n",
       "3                    Other                  Shallow well   \n",
       "4                 Business                  Shallow well   \n",
       "\n",
       "  Walking time to water source Do you treat your drinking water?  \\\n",
       "0                    15–30 min                                No   \n",
       "1                      <15 min                                No   \n",
       "2                      <15 min                                No   \n",
       "3                      <15 min                                No   \n",
       "4                      <15 min                                No   \n",
       "\n",
       "     If yes, how?  If yes, how?/Boiling  If yes, how?/Chlorination  \\\n",
       "0  Not Applicable                   NaN                        NaN   \n",
       "1  Not Applicable                   NaN                        NaN   \n",
       "2  Not Applicable                   NaN                        NaN   \n",
       "3  Not Applicable                   NaN                        NaN   \n",
       "4  Not Applicable                   NaN                        NaN   \n",
       "\n",
       "   If yes, how?/Filtration  If yes, how?/Other Type of sanitation facility  \\\n",
       "0                      NaN                 NaN            Improved latrine   \n",
       "1                      NaN                 NaN            Improved latrine   \n",
       "2                      NaN                 NaN            Improved latrine   \n",
       "3                      NaN                 NaN            Improved latrine   \n",
       "4                      NaN                 NaN            Improved latrine   \n",
       "\n",
       "  Handwashing facility present? If yes, is soap/ash available?  \\\n",
       "0                            No                            NaN   \n",
       "1                            No                            NaN   \n",
       "2                            No                            NaN   \n",
       "3                           Yes                      Sometimes   \n",
       "4                           Yes                      Sometimes   \n",
       "\n",
       "  Has your main water point broken down in the past year?  \\\n",
       "0                                                 No        \n",
       "1                                                Yes        \n",
       "2                                                Yes        \n",
       "3                                                 No        \n",
       "4                                                 No        \n",
       "\n",
       "  If yes, average repair time Who usually pays for repairs?  \\\n",
       "0                         NaN                         Other   \n",
       "1                     <1 week                     Community   \n",
       "2                     <1 week                     Community   \n",
       "3                         NaN                           NaN   \n",
       "4                         NaN                Private vendor   \n",
       "\n",
       "  Have there been conflicts at water points? Do you pay for water use?  \\\n",
       "0                                         No                       Yes   \n",
       "1                                        Yes                       Yes   \n",
       "2                                         No                       Yes   \n",
       "3                                         No                       Yes   \n",
       "4                                         No                       Yes   \n",
       "\n",
       "  If yes, payment frequency Is there a water committee in your area?  \\\n",
       "0                   Monthly                                       No   \n",
       "1                   Monthly                                      Yes   \n",
       "2                   Monthly                                       No   \n",
       "3                    Weekly                                       No   \n",
       "4                   Monthly                                       No   \n",
       "\n",
       "  Do you or a household member participate in the water committee?  \\\n",
       "0                                                 No                 \n",
       "1                                                Yes                 \n",
       "2                                                 No                 \n",
       "3                                                Yes                 \n",
       "4                                                 No                 \n",
       "\n",
       "  How satisfied are you with water service management?  \\\n",
       "0                                          Satisfied     \n",
       "1                                          Satisfied     \n",
       "2                                          Satisfied     \n",
       "3                                          Satisfied     \n",
       "4                                          Satisfied     \n",
       "\n",
       "  Have NGOs/UN agencies implemented WASH projects in your area in the last 5 years?  \\\n",
       "0                                                Yes                                  \n",
       "1                                                Yes                                  \n",
       "2                                                Yes                                  \n",
       "3                                                Yes                                  \n",
       "4                                                Yes                                  \n",
       "\n",
       "  Impact on water access Impact on sanitation facilities  \\\n",
       "0                   High                             Low   \n",
       "1                   High                             Low   \n",
       "2                   High                        Moderate   \n",
       "3                   High                        Moderate   \n",
       "4                   High                        Moderate   \n",
       "\n",
       "  Impact on hygiene practices  \\\n",
       "0                         Low   \n",
       "1                         Low   \n",
       "2                    Moderate   \n",
       "3                         Low   \n",
       "4                    Moderate   \n",
       "\n",
       "  Any household member experienced diarrhea in past 3 months?  \\\n",
       "0                                                 No            \n",
       "1                                                 No            \n",
       "2                                                 No            \n",
       "3                                                 No            \n",
       "4                                                 No            \n",
       "\n",
       "  If yes, how many cases?  \\\n",
       "0                     NaN   \n",
       "1                     NaN   \n",
       "2                     NaN   \n",
       "3                     NaN   \n",
       "4                     NaN   \n",
       "\n",
       "  Has your community experienced a cholera outbreak in the past 12 months?  \\\n",
       "0                                                 No                         \n",
       "1                                                 No                         \n",
       "2                                                 No                         \n",
       "3                                                 No                         \n",
       "4                                                 No                         \n",
       "\n",
       "  Household_identify  \n",
       "0          Pre-Urban  \n",
       "1          Pre-Urban  \n",
       "2          Pre-Urban  \n",
       "3          Pre-Urban  \n",
       "4          Pre-Urban  "
      ]
     },
     "execution_count": 236,
     "metadata": {},
     "output_type": "execute_result"
    }
   ],
   "source": [
    "df.head()"
   ]
  },
  {
   "cell_type": "markdown",
   "id": "c617d77e",
   "metadata": {},
   "source": [
    "### 📊 Demographic Visualization\n",
    "\n",
    "**Overview:**  \n",
    "This section focuses on visualizing the key demographic characteristics of respondents to understand their distribution and patterns. All missing values and inconsistencies have already been addressed.\n",
    "\n",
    "**Variables for Visualization:**\n",
    "\n",
    "1. **Gender of Respondent** – Bar chart to show the count of male and female respondents.  \n",
    "2. **Age of Respondent (Grouped)** – Histogram or bar chart to display distribution across age groups.  \n",
    "3. **Household Size (Grouped)** – Bar chart showing the number of households per size category.  \n",
    "4. **Main Livelihood Activity** – Bar chart or pie chart to illustrate the proportion of different livelihood types.  \n",
    "5. **Main Source of Drinking Water** – Bar chart or pie chart to show the distribution of water sources.  \n",
    "6. **Walking Time to Water Source** – Bar chart to display the frequency of respondents by walking time category.\n",
    "\n",
    "**Summary:**  \n",
    "Visualizations will help identify patterns and insights in the demographic profile of the respondents, supporting further analysis and reporting."
   ]
  },
  {
   "cell_type": "markdown",
   "id": "20149346",
   "metadata": {},
   "source": [
    "**📌 Household ID Clarification**\n",
    ">\n",
    "> In this dataset, the `Household ID` column uses short codes to indicate the type of settlement where the household is located.  \n",
    "> Below are the codes and their meanings:\n",
    ">\n",
    "> - **PU** → *Pre-Urban* — Areas that are transitioning from rural to urban, often near towns or cities.  \n",
    "> - **R** → *Rural* — Villages or remote areas with lower population density.  \n",
    "> - **IDP** → *Internal Displacement* — Camps or settlements for people who have been displaced within the country.\n"
   ]
  },
  {
   "cell_type": "code",
   "execution_count": 254,
   "id": "7447630c",
   "metadata": {},
   "outputs": [
    {
     "data": {
      "image/png": "[encoded data removed]",
      "text/plain": [
       "<Figure size 800x500 with 1 Axes>"
      ]
     },
     "metadata": {},
     "output_type": "display_data"
    }
   ],
   "source": [
    "df['Household_identify'] = df['Household_identify'].replace({\n",
    "    'IDP': 'Internal Displacement',\n",
    "    'R' : 'Rural',\n",
    "    'PU': 'Pre-Urban'\n",
    "})\n",
    "\n",
    "fig, ax = plt.subplots(figsize=(8,5))\n",
    "df['Household_identify'].value_counts().plot(kind='bar',color='skyblue', label='Household Identification' )\n",
    "for x in ax.containers:\n",
    "    ax.bar_label(x, fontsize=9)\n",
    "plt.legend()\n",
    "plt.grid(axis='y', ls='--', alpha=0.3)\n",
    "plt.title('Household Identification Counts', fontsize=10, fontweight='bold')\n",
    "plt.xlabel('Household type')\n",
    "plt.ylabel('Count')\n",
    "plt.xticks(rotation=0)\n",
    "\n",
    "plt.tight_layout()"
   ]
  },
  {
   "cell_type": "code",
   "execution_count": null,
   "id": "369789d3",
   "metadata": {},
   "outputs": [],
   "source": []
  },
  {
   "cell_type": "markdown",
   "id": "73812796",
   "metadata": {},
   "source": [
    "#### 'Gender of respondent', 'Age of respondent', 'Household size' -> in single plot "
   ]
  },
  {
   "cell_type": "code",
   "execution_count": 294,
   "id": "e863dbc3",
   "metadata": {},
   "outputs": [
    {
     "data": {
      "image/png": "[encoded data removed]",
      "text/plain": [
       "<Figure size 1500x500 with 3 Axes>"
      ]
     },
     "metadata": {},
     "output_type": "display_data"
    }
   ],
   "source": [
    "features = ['Gender of respondent', 'Age of respondent', 'Household size']\n",
    "fig, axes = plt.subplots(1, len(features), figsize=(15,5))\n",
    "\n",
    "for i, col in enumerate(features):\n",
    "    counts = df[col].value_counts()\n",
    "    counts.plot(kind='bar', ax=axes[i], color='skyblue')\n",
    "    axes[i].set_title(col)\n",
    "    axes[i].set_ylabel('Count')\n",
    "    \n",
    "    # Add data labels on bars\n",
    "    for p in axes[i].patches:\n",
    "        axes[i].annotate(\n",
    "            str(p.get_height()),                \n",
    "            (p.get_x() + p.get_width() / 2., p.get_height()),  \n",
    "            ha='center',                        \n",
    "            va='bottom',                        \n",
    "            fontsize=10\n",
    "        )\n",
    "\n",
    "plt.tight_layout()\n",
    "plt.show()"
   ]
  },
  {
   "cell_type": "code",
   "execution_count": 350,
   "id": "d58d8ddf",
   "metadata": {},
   "outputs": [
    {
     "data": {
      "image/png": "[encoded data removed]",
      "text/plain": [
       "<Figure size 1800x550 with 3 Axes>"
      ]
     },
     "metadata": {},
     "output_type": "display_data"
    }
   ],
   "source": [
    "features = ['Gender of respondent', 'Age of respondent', 'Household size']\n",
    "fig, axes = plt.subplots(1, len(features), figsize=(18,5.5))  # slightly wider for clarity\n",
    "\n",
    "for i, col in enumerate(features):\n",
    "    counts = df[col].value_counts()\n",
    "    total = counts.sum()\n",
    "    counts.plot(kind='bar', ax=axes[i], color='skyblue')\n",
    "    axes[i].set_title(col, fontsize=12, fontweight='bold')\n",
    "    axes[i].set_ylabel('Count')\n",
    "    \n",
    "    # Add both count and percentage labels\n",
    "    for p in axes[i].patches:\n",
    "        height = p.get_height()\n",
    "        percent = height / total * 100\n",
    "        axes[i].annotate(\n",
    "            f\"{height} ({percent:.0f}%)\",           # count and percentage\n",
    "            (p.get_x() + p.get_width() / 2., height),\n",
    "            ha='center',\n",
    "            va='bottom',\n",
    "            fontsize=10\n",
    "        )\n",
    "\n",
    "plt.tight_layout()\n",
    "plt.show()"
   ]
  },
  {
   "cell_type": "markdown",
   "id": "8abcb665",
   "metadata": {},
   "source": [
    "Gender vs Main Livelihood activity"
   ]
  },
  {
   "cell_type": "code",
   "execution_count": 307,
   "id": "d4d7b700",
   "metadata": {},
   "outputs": [
    {
     "data": {
      "image/png": "[encoded data removed]",
      "text/plain": [
       "<Figure size 800x500 with 1 Axes>"
      ]
     },
     "metadata": {},
     "output_type": "display_data"
    }
   ],
   "source": [
    "ct = pd.crosstab(df['Gender of respondent'], df['Main livelihood activity'])\n",
    "\n",
    "# Plot grouped bar chart\n",
    "ax = ct.plot(kind='bar', figsize=(8,5), color=['skyblue','wheat','lightgreen', 'darkorange'])\n",
    "plt.title(\"Gender vs Main Livelihood Activity\")\n",
    "plt.ylabel(\"Count\")\n",
    "plt.xlabel(\"Gender\")\n",
    "plt.xticks(rotation=0)\n",
    "plt.legend(title=\"Livelihood\")\n",
    "\n",
    "for p in ax.patches:\n",
    "    ax.annotate(\n",
    "        str(int(p.get_height())),                 \n",
    "        (p.get_x() + p.get_width() / 2., p.get_height()),  \n",
    "        ha='center',                              \n",
    "        va='bottom',                            \n",
    "        fontsize=9,\n",
    "        color='red'\n",
    "    )\n",
    "\n",
    "plt.grid(alpha=0.3, ls='--', axis='y')\n",
    "plt.tight_layout()\n",
    "plt.show()"
   ]
  },
  {
   "cell_type": "code",
   "execution_count": 346,
   "id": "cf4f4c40",
   "metadata": {},
   "outputs": [
    {
     "data": {
      "image/png": "[encoded data removed]",
      "text/plain": [
       "<Figure size 1200x500 with 1 Axes>"
      ]
     },
     "metadata": {},
     "output_type": "display_data"
    }
   ],
   "source": [
    "ct = pd.crosstab(df['Gender of respondent'], df['Age of respondent'])\n",
    "\n",
    "# Convert to percentages (row-wise)\n",
    "ct_percent = ct.div(ct.sum(axis=1), axis=0) * 100\n",
    "\n",
    "# Plot stacked horizontal bar chart\n",
    "ax = ct_percent.plot(kind='barh', stacked=True, figsize=(12,5), colormap='turbo')\n",
    "\n",
    "plt.title(\"Gender distribution by Age group (%)\")\n",
    "plt.ylabel(\"Gender\")\n",
    "plt.xlabel(\"Percentage (%)\")\n",
    "plt.xticks(rotation=0)\n",
    "plt.grid(alpha=0.3, ls='--', axis='x')\n",
    "plt.legend(title=\"Age group\", bbox_to_anchor=(1.05, 1), loc='upper left')\n",
    "\n",
    "# Add percentage labels inside bars\n",
    "for i, (gender, row) in enumerate(ct_percent.iterrows()):\n",
    "    left = 0  # start position of each bar segment\n",
    "    for value in row:\n",
    "        if value > 0:  # only label non-zero segments\n",
    "            ax.text(\n",
    "                left + value / 2,  # x position (center of segment)\n",
    "                i,                  # y position\n",
    "                f\"{value:.1f}%\",    # label text\n",
    "                ha='center',\n",
    "                va='center',\n",
    "                fontsize=9,\n",
    "                color='white'       # white text on colored bars\n",
    "            )\n",
    "        left += value  # increment left position for next segment\n",
    "\n",
    "plt.tight_layout()\n",
    "plt.show()"
   ]
  },
  {
   "cell_type": "code",
   "execution_count": null,
   "id": "0f00d7b5",
   "metadata": {},
   "outputs": [],
   "source": []
  },
  {
   "cell_type": "code",
   "execution_count": 327,
   "id": "a6b5b446",
   "metadata": {},
   "outputs": [
    {
     "data": {
      "application/vnd.plotly.v1+json": {
       "config": {
        "plotlyServerURL": "https://plot.ly"
       },
       "data": [
        {
         "name": "<15 min",
         "text": [
          "50.0%",
          "100.0%",
          "26.3%",
          "67.8%",
          "0.0%"
         ],
         "textposition": "auto",
         "type": "bar",
         "x": [
          "Borehole",
          "Rainwater",
          "River",
          "Shallow well",
          "Trucked water"
         ],
         "y": [
          1,
          1,
          5,
          61,
          0
         ]
        },
        {
         "name": "15–30 min",
         "text": [
          "50.0%",
          "0.0%",
          "36.8%",
          "31.1%",
          "100.0%"
         ],
         "textposition": "auto",
         "type": "bar",
         "x": [
          "Borehole",
          "Rainwater",
          "River",
          "Shallow well",
          "Trucked water"
         ],
         "y": [
          1,
          0,
          7,
          28,
          3
         ]
        },
        {
         "name": "30–60 min",
         "text": [
          "0.0%",
          "0.0%",
          "36.8%",
          "1.1%",
          "0.0%"
         ],
         "textposition": "auto",
         "type": "bar",
         "x": [
          "Borehole",
          "Rainwater",
          "River",
          "Shallow well",
          "Trucked water"
         ],
         "y": [
          0,
          0,
          7,
          1,
          0
         ]
        }
       ],
       "layout": {
        "barmode": "group",
        "template": {
         "data": {
          "bar": [
           {
            "error_x": {
             "color": "#2a3f5f"
            },
            "error_y": {
             "color": "#2a3f5f"
            },
            "marker": {
             "line": {
              "color": "white",
              "width": 0.5
             },
             "pattern": {
              "fillmode": "overlay",
              "size": 10,
              "solidity": 0.2
             }
            },
            "type": "bar"
           }
          ],
          "barpolar": [
           {
            "marker": {
             "line": {
              "color": "white",
              "width": 0.5
             },
             "pattern": {
              "fillmode": "overlay",
              "size": 10,
              "solidity": 0.2
             }
            },
            "type": "barpolar"
           }
          ],
          "carpet": [
           {
            "aaxis": {
             "endlinecolor": "#2a3f5f",
             "gridcolor": "#C8D4E3",
             "linecolor": "#C8D4E3",
             "minorgridcolor": "#C8D4E3",
             "startlinecolor": "#2a3f5f"
            },
            "baxis": {
             "endlinecolor": "#2a3f5f",
             "gridcolor": "#C8D4E3",
             "linecolor": "#C8D4E3",
             "minorgridcolor": "#C8D4E3",
             "startlinecolor": "#2a3f5f"
            },
            "type": "carpet"
           }
          ],
          "choropleth": [
           {
            "colorbar": {
             "outlinewidth": 0,
             "ticks": ""
            },
            "type": "choropleth"
           }
          ],
          "contour": [
           {
            "colorbar": {
             "outlinewidth": 0,
             "ticks": ""
            },
            "colorscale": [
             [
              0,
              "#0d0887"
             ],
             [
              0.1111111111111111,
              "#46039f"
             ],
             [
              0.2222222222222222,
              "#7201a8"
             ],
             [
              0.3333333333333333,
              "#9c179e"
             ],
             [
              0.4444444444444444,
              "#bd3786"
             ],
             [
              0.5555555555555556,
              "#d8576b"
             ],
             [
              0.6666666666666666,
              "#ed7953"
             ],
             [
              0.7777777777777778,
              "#fb9f3a"
             ],
             [
              0.8888888888888888,
              "#fdca26"
             ],
             [
              1,
              "#f0f921"
             ]
            ],
            "type": "contour"
           }
          ],
          "contourcarpet": [
           {
            "colorbar": {
             "outlinewidth": 0,
             "ticks": ""
            },
            "type": "contourcarpet"
           }
          ],
          "heatmap": [
           {
            "colorbar": {
             "outlinewidth": 0,
             "ticks": ""
            },
            "colorscale": [
             [
              0,
              "#0d0887"
             ],
             [
              0.1111111111111111,
              "#46039f"
             ],
             [
              0.2222222222222222,
              "#7201a8"
             ],
             [
              0.3333333333333333,
              "#9c179e"
             ],
             [
              0.4444444444444444,
              "#bd3786"
             ],
             [
              0.5555555555555556,
              "#d8576b"
             ],
             [
              0.6666666666666666,
              "#ed7953"
             ],
             [
              0.7777777777777778,
              "#fb9f3a"
             ],
             [
              0.8888888888888888,
              "#fdca26"
             ],
             [
              1,
              "#f0f921"
             ]
            ],
            "type": "heatmap"
           }
          ],
          "heatmapgl": [
           {
            "colorbar": {
             "outlinewidth": 0,
             "ticks": ""
            },
            "colorscale": [
             [
              0,
              "#0d0887"
             ],
             [
              0.1111111111111111,
              "#46039f"
             ],
             [
              0.2222222222222222,
              "#7201a8"
             ],
             [
              0.3333333333333333,
              "#9c179e"
             ],
             [
              0.4444444444444444,
              "#bd3786"
             ],
             [
              0.5555555555555556,
              "#d8576b"
             ],
             [
              0.6666666666666666,
              "#ed7953"
             ],
             [
              0.7777777777777778,
              "#fb9f3a"
             ],
             [
              0.8888888888888888,
              "#fdca26"
             ],
             [
              1,
              "#f0f921"
             ]
            ],
            "type": "heatmapgl"
           }
          ],
          "histogram": [
           {
            "marker": {
             "pattern": {
              "fillmode": "overlay",
              "size": 10,
              "solidity": 0.2
             }
            },
            "type": "histogram"
           }
          ],
          "histogram2d": [
           {
            "colorbar": {
             "outlinewidth": 0,
             "ticks": ""
            },
            "colorscale": [
             [
              0,
              "#0d0887"
             ],
             [
              0.1111111111111111,
              "#46039f"
             ],
             [
              0.2222222222222222,
              "#7201a8"
             ],
             [
              0.3333333333333333,
              "#9c179e"
             ],
             [
              0.4444444444444444,
              "#bd3786"
             ],
             [
              0.5555555555555556,
              "#d8576b"
             ],
             [
              0.6666666666666666,
              "#ed7953"
             ],
             [
              0.7777777777777778,
              "#fb9f3a"
             ],
             [
              0.8888888888888888,
              "#fdca26"
             ],
             [
              1,
              "#f0f921"
             ]
            ],
            "type": "histogram2d"
           }
          ],
          "histogram2dcontour": [
           {
            "colorbar": {
             "outlinewidth": 0,
             "ticks": ""
            },
            "colorscale": [
             [
              0,
              "#0d0887"
             ],
             [
              0.1111111111111111,
              "#46039f"
             ],
             [
              0.2222222222222222,
              "#7201a8"
             ],
             [
              0.3333333333333333,
              "#9c179e"
             ],
             [
              0.4444444444444444,
              "#bd3786"
             ],
             [
              0.5555555555555556,
              "#d8576b"
             ],
             [
              0.6666666666666666,
              "#ed7953"
             ],
             [
              0.7777777777777778,
              "#fb9f3a"
             ],
             [
              0.8888888888888888,
              "#fdca26"
             ],
             [
              1,
              "#f0f921"
             ]
            ],
            "type": "histogram2dcontour"
           }
          ],
          "mesh3d": [
           {
            "colorbar": {
             "outlinewidth": 0,
             "ticks": ""
            },
            "type": "mesh3d"
           }
          ],
          "parcoords": [
           {
            "line": {
             "colorbar": {
              "outlinewidth": 0,
              "ticks": ""
             }
            },
            "type": "parcoords"
           }
          ],
          "pie": [
           {
            "automargin": true,
            "type": "pie"
           }
          ],
          "scatter": [
           {
            "fillpattern": {
             "fillmode": "overlay",
             "size": 10,
             "solidity": 0.2
            },
            "type": "scatter"
           }
          ],
          "scatter3d": [
           {
            "line": {
             "colorbar": {
              "outlinewidth": 0,
              "ticks": ""
             }
            },
            "marker": {
             "colorbar": {
              "outlinewidth": 0,
              "ticks": ""
             }
            },
            "type": "scatter3d"
           }
          ],
          "scattercarpet": [
           {
            "marker": {
             "colorbar": {
              "outlinewidth": 0,
              "ticks": ""
             }
            },
            "type": "scattercarpet"
           }
          ],
          "scattergeo": [
           {
            "marker": {
             "colorbar": {
              "outlinewidth": 0,
              "ticks": ""
             }
            },
            "type": "scattergeo"
           }
          ],
          "scattergl": [
           {
            "marker": {
             "colorbar": {
              "outlinewidth": 0,
              "ticks": ""
             }
            },
            "type": "scattergl"
           }
          ],
          "scattermapbox": [
           {
            "marker": {
             "colorbar": {
              "outlinewidth": 0,
              "ticks": ""
             }
            },
            "type": "scattermapbox"
           }
          ],
          "scatterpolar": [
           {
            "marker": {
             "colorbar": {
              "outlinewidth": 0,
              "ticks": ""
             }
            },
            "type": "scatterpolar"
           }
          ],
          "scatterpolargl": [
           {
            "marker": {
             "colorbar": {
              "outlinewidth": 0,
              "ticks": ""
             }
            },
            "type": "scatterpolargl"
           }
          ],
          "scatterternary": [
           {
            "marker": {
             "colorbar": {
              "outlinewidth": 0,
              "ticks": ""
             }
            },
            "type": "scatterternary"
           }
          ],
          "surface": [
           {
            "colorbar": {
             "outlinewidth": 0,
             "ticks": ""
            },
            "colorscale": [
             [
              0,
              "#0d0887"
             ],
             [
              0.1111111111111111,
              "#46039f"
             ],
             [
              0.2222222222222222,
              "#7201a8"
             ],
             [
              0.3333333333333333,
              "#9c179e"
             ],
             [
              0.4444444444444444,
              "#bd3786"
             ],
             [
              0.5555555555555556,
              "#d8576b"
             ],
             [
              0.6666666666666666,
              "#ed7953"
             ],
             [
              0.7777777777777778,
              "#fb9f3a"
             ],
             [
              0.8888888888888888,
              "#fdca26"
             ],
             [
              1,
              "#f0f921"
             ]
            ],
            "type": "surface"
           }
          ],
          "table": [
           {
            "cells": {
             "fill": {
              "color": "#EBF0F8"
             },
             "line": {
              "color": "white"
             }
            },
            "header": {
             "fill": {
              "color": "#C8D4E3"
             },
             "line": {
              "color": "white"
             }
            },
            "type": "table"
           }
          ]
         },
         "layout": {
          "annotationdefaults": {
           "arrowcolor": "#2a3f5f",
           "arrowhead": 0,
           "arrowwidth": 1
          },
          "autotypenumbers": "strict",
          "coloraxis": {
           "colorbar": {
            "outlinewidth": 0,
            "ticks": ""
           }
          },
          "colorscale": {
           "diverging": [
            [
             0,
             "#8e0152"
            ],
            [
             0.1,
             "#c51b7d"
            ],
            [
             0.2,
             "#de77ae"
            ],
            [
             0.3,
             "#f1b6da"
            ],
            [
             0.4,
             "#fde0ef"
            ],
            [
             0.5,
             "#f7f7f7"
            ],
            [
             0.6,
             "#e6f5d0"
            ],
            [
             0.7,
             "#b8e186"
            ],
            [
             0.8,
             "#7fbc41"
            ],
            [
             0.9,
             "#4d9221"
            ],
            [
             1,
             "#276419"
            ]
           ],
           "sequential": [
            [
             0,
             "#0d0887"
            ],
            [
             0.1111111111111111,
             "#46039f"
            ],
            [
             0.2222222222222222,
             "#7201a8"
            ],
            [
             0.3333333333333333,
             "#9c179e"
            ],
            [
             0.4444444444444444,
             "#bd3786"
            ],
            [
             0.5555555555555556,
             "#d8576b"
            ],
            [
             0.6666666666666666,
             "#ed7953"
            ],
            [
             0.7777777777777778,
             "#fb9f3a"
            ],
            [
             0.8888888888888888,
             "#fdca26"
            ],
            [
             1,
             "#f0f921"
            ]
           ],
           "sequentialminus": [
            [
             0,
             "#0d0887"
            ],
            [
             0.1111111111111111,
             "#46039f"
            ],
            [
             0.2222222222222222,
             "#7201a8"
            ],
            [
             0.3333333333333333,
             "#9c179e"
            ],
            [
             0.4444444444444444,
             "#bd3786"
            ],
            [
             0.5555555555555556,
             "#d8576b"
            ],
            [
             0.6666666666666666,
             "#ed7953"
            ],
            [
             0.7777777777777778,
             "#fb9f3a"
            ],
            [
             0.8888888888888888,
             "#fdca26"
            ],
            [
             1,
             "#f0f921"
            ]
           ]
          },
          "colorway": [
           "#636efa",
           "#EF553B",
           "#00cc96",
           "#ab63fa",
           "#FFA15A",
           "#19d3f3",
           "#FF6692",
           "#B6E880",
           "#FF97FF",
           "#FECB52"
          ],
          "font": {
           "color": "#2a3f5f"
          },
          "geo": {
           "bgcolor": "white",
           "lakecolor": "white",
           "landcolor": "white",
           "showlakes": true,
           "showland": true,
           "subunitcolor": "#C8D4E3"
          },
          "hoverlabel": {
           "align": "left"
          },
          "hovermode": "closest",
          "mapbox": {
           "style": "light"
          },
          "paper_bgcolor": "white",
          "plot_bgcolor": "white",
          "polar": {
           "angularaxis": {
            "gridcolor": "#EBF0F8",
            "linecolor": "#EBF0F8",
            "ticks": ""
           },
           "bgcolor": "white",
           "radialaxis": {
            "gridcolor": "#EBF0F8",
            "linecolor": "#EBF0F8",
            "ticks": ""
           }
          },
          "scene": {
           "xaxis": {
            "backgroundcolor": "white",
            "gridcolor": "#DFE8F3",
            "gridwidth": 2,
            "linecolor": "#EBF0F8",
            "showbackground": true,
            "ticks": "",
            "zerolinecolor": "#EBF0F8"
           },
           "yaxis": {
            "backgroundcolor": "white",
            "gridcolor": "#DFE8F3",
            "gridwidth": 2,
            "linecolor": "#EBF0F8",
            "showbackground": true,
            "ticks": "",
            "zerolinecolor": "#EBF0F8"
           },
           "zaxis": {
            "backgroundcolor": "white",
            "gridcolor": "#DFE8F3",
            "gridwidth": 2,
            "linecolor": "#EBF0F8",
            "showbackground": true,
            "ticks": "",
            "zerolinecolor": "#EBF0F8"
           }
          },
          "shapedefaults": {
           "line": {
            "color": "#2a3f5f"
           }
          },
          "ternary": {
           "aaxis": {
            "gridcolor": "#DFE8F3",
            "linecolor": "#A2B1C6",
            "ticks": ""
           },
           "baxis": {
            "gridcolor": "#DFE8F3",
            "linecolor": "#A2B1C6",
            "ticks": ""
           },
           "bgcolor": "white",
           "caxis": {
            "gridcolor": "#DFE8F3",
            "linecolor": "#A2B1C6",
            "ticks": ""
           }
          },
          "title": {
           "x": 0.05
          },
          "xaxis": {
           "automargin": true,
           "gridcolor": "#EBF0F8",
           "linecolor": "#EBF0F8",
           "ticks": "",
           "title": {
            "standoff": 15
           },
           "zerolinecolor": "#EBF0F8",
           "zerolinewidth": 2
          },
          "yaxis": {
           "automargin": true,
           "gridcolor": "#EBF0F8",
           "linecolor": "#EBF0F8",
           "ticks": "",
           "title": {
            "standoff": 15
           },
           "zerolinecolor": "#EBF0F8",
           "zerolinewidth": 2
          }
         }
        },
        "title": {
         "text": "Water Source vs Walking Time (Percentage)"
        },
        "xaxis": {
         "title": {
          "text": "Main Source of Drinking Water"
         }
        },
        "yaxis": {
         "title": {
          "text": "Count"
         }
        }
       }
      },
      "text/html": [
       "<div>                            <div id=\"dbc99de6-965f-4628-bc58-fe0c828d8671\" class=\"plotly-graph-div\" style=\"height:525px; width:100%;\"></div>            <script type=\"text/javascript\">                require([\"plotly\"], function(Plotly) {                    window.PLOTLYENV=window.PLOTLYENV || {};                                    if (document.getElementById(\"dbc99de6-965f-4628-bc58-fe0c828d8671\")) {                    Plotly.newPlot(                        \"dbc99de6-965f-4628-bc58-fe0c828d8671\",                        [{\"name\":\"<15 min\",\"text\":[\"50.0%\",\"100.0%\",\"26.3%\",\"67.8%\",\"0.0%\"],\"textposition\":\"auto\",\"x\":[\"Borehole\",\"Rainwater\",\"River\",\"Shallow well\",\"Trucked water\"],\"y\":[1,1,5,61,0],\"type\":\"bar\"},{\"name\":\"15–30 min\",\"text\":[\"50.0%\",\"0.0%\",\"36.8%\",\"31.1%\",\"100.0%\"],\"textposition\":\"auto\",\"x\":[\"Borehole\",\"Rainwater\",\"River\",\"Shallow well\",\"Trucked water\"],\"y\":[1,0,7,28,3],\"type\":\"bar\"},{\"name\":\"30–60 min\",\"text\":[\"0.0%\",\"0.0%\",\"36.8%\",\"1.1%\",\"0.0%\"],\"textposition\":\"auto\",\"x\":[\"Borehole\",\"Rainwater\",\"River\",\"Shallow well\",\"Trucked water\"],\"y\":[0,0,7,1,0],\"type\":\"bar\"}],                        {\"template\":{\"data\":{\"barpolar\":[{\"marker\":{\"line\":{\"color\":\"white\",\"width\":0.5},\"pattern\":{\"fillmode\":\"overlay\",\"size\":10,\"solidity\":0.2}},\"type\":\"barpolar\"}],\"bar\":[{\"error_x\":{\"color\":\"#2a3f5f\"},\"error_y\":{\"color\":\"#2a3f5f\"},\"marker\":{\"line\":{\"color\":\"white\",\"width\":0.5},\"pattern\":{\"fillmode\":\"overlay\",\"size\":10,\"solidity\":0.2}},\"type\":\"bar\"}],\"carpet\":[{\"aaxis\":{\"endlinecolor\":\"#2a3f5f\",\"gridcolor\":\"#C8D4E3\",\"linecolor\":\"#C8D4E3\",\"minorgridcolor\":\"#C8D4E3\",\"startlinecolor\":\"#2a3f5f\"},\"baxis\":{\"endlinecolor\":\"#2a3f5f\",\"gridcolor\":\"#C8D4E3\",\"linecolor\":\"#C8D4E3\",\"minorgridcolor\":\"#C8D4E3\",\"startlinecolor\":\"#2a3f5f\"},\"type\":\"carpet\"}],\"choropleth\":[{\"colorbar\":{\"outlinewidth\":0,\"ticks\":\"\"},\"type\":\"choropleth\"}],\"contourcarpet\":[{\"colorbar\":{\"outlinewidth\":0,\"ticks\":\"\"},\"type\":\"contourcarpet\"}],\"contour\":[{\"colorbar\":{\"outlinewidth\":0,\"ticks\":\"\"},\"colorscale\":[[0.0,\"#0d0887\"],[0.1111111111111111,\"#46039f\"],[0.2222222222222222,\"#7201a8\"],[0.3333333333333333,\"#9c179e\"],[0.4444444444444444,\"#bd3786\"],[0.5555555555555556,\"#d8576b\"],[0.6666666666666666,\"#ed7953\"],[0.7777777777777778,\"#fb9f3a\"],[0.8888888888888888,\"#fdca26\"],[1.0,\"#f0f921\"]],\"type\":\"contour\"}],\"heatmapgl\":[{\"colorbar\":{\"outlinewidth\":0,\"ticks\":\"\"},\"colorscale\":[[0.0,\"#0d0887\"],[0.1111111111111111,\"#46039f\"],[0.2222222222222222,\"#7201a8\"],[0.3333333333333333,\"#9c179e\"],[0.4444444444444444,\"#bd3786\"],[0.5555555555555556,\"#d8576b\"],[0.6666666666666666,\"#ed7953\"],[0.7777777777777778,\"#fb9f3a\"],[0.8888888888888888,\"#fdca26\"],[1.0,\"#f0f921\"]],\"type\":\"heatmapgl\"}],\"heatmap\":[{\"colorbar\":{\"outlinewidth\":0,\"ticks\":\"\"},\"colorscale\":[[0.0,\"#0d0887\"],[0.1111111111111111,\"#46039f\"],[0.2222222222222222,\"#7201a8\"],[0.3333333333333333,\"#9c179e\"],[0.4444444444444444,\"#bd3786\"],[0.5555555555555556,\"#d8576b\"],[0.6666666666666666,\"#ed7953\"],[0.7777777777777778,\"#fb9f3a\"],[0.8888888888888888,\"#fdca26\"],[1.0,\"#f0f921\"]],\"type\":\"heatmap\"}],\"histogram2dcontour\":[{\"colorbar\":{\"outlinewidth\":0,\"ticks\":\"\"},\"colorscale\":[[0.0,\"#0d0887\"],[0.1111111111111111,\"#46039f\"],[0.2222222222222222,\"#7201a8\"],[0.3333333333333333,\"#9c179e\"],[0.4444444444444444,\"#bd3786\"],[0.5555555555555556,\"#d8576b\"],[0.6666666666666666,\"#ed7953\"],[0.7777777777777778,\"#fb9f3a\"],[0.8888888888888888,\"#fdca26\"],[1.0,\"#f0f921\"]],\"type\":\"histogram2dcontour\"}],\"histogram2d\":[{\"colorbar\":{\"outlinewidth\":0,\"ticks\":\"\"},\"colorscale\":[[0.0,\"#0d0887\"],[0.1111111111111111,\"#46039f\"],[0.2222222222222222,\"#7201a8\"],[0.3333333333333333,\"#9c179e\"],[0.4444444444444444,\"#bd3786\"],[0.5555555555555556,\"#d8576b\"],[0.6666666666666666,\"#ed7953\"],[0.7777777777777778,\"#fb9f3a\"],[0.8888888888888888,\"#fdca26\"],[1.0,\"#f0f921\"]],\"type\":\"histogram2d\"}],\"histogram\":[{\"marker\":{\"pattern\":{\"fillmode\":\"overlay\",\"size\":10,\"solidity\":0.2}},\"type\":\"histogram\"}],\"mesh3d\":[{\"colorbar\":{\"outlinewidth\":0,\"ticks\":\"\"},\"type\":\"mesh3d\"}],\"parcoords\":[{\"line\":{\"colorbar\":{\"outlinewidth\":0,\"ticks\":\"\"}},\"type\":\"parcoords\"}],\"pie\":[{\"automargin\":true,\"type\":\"pie\"}],\"scatter3d\":[{\"line\":{\"colorbar\":{\"outlinewidth\":0,\"ticks\":\"\"}},\"marker\":{\"colorbar\":{\"outlinewidth\":0,\"ticks\":\"\"}},\"type\":\"scatter3d\"}],\"scattercarpet\":[{\"marker\":{\"colorbar\":{\"outlinewidth\":0,\"ticks\":\"\"}},\"type\":\"scattercarpet\"}],\"scattergeo\":[{\"marker\":{\"colorbar\":{\"outlinewidth\":0,\"ticks\":\"\"}},\"type\":\"scattergeo\"}],\"scattergl\":[{\"marker\":{\"colorbar\":{\"outlinewidth\":0,\"ticks\":\"\"}},\"type\":\"scattergl\"}],\"scattermapbox\":[{\"marker\":{\"colorbar\":{\"outlinewidth\":0,\"ticks\":\"\"}},\"type\":\"scattermapbox\"}],\"scatterpolargl\":[{\"marker\":{\"colorbar\":{\"outlinewidth\":0,\"ticks\":\"\"}},\"type\":\"scatterpolargl\"}],\"scatterpolar\":[{\"marker\":{\"colorbar\":{\"outlinewidth\":0,\"ticks\":\"\"}},\"type\":\"scatterpolar\"}],\"scatter\":[{\"fillpattern\":{\"fillmode\":\"overlay\",\"size\":10,\"solidity\":0.2},\"type\":\"scatter\"}],\"scatterternary\":[{\"marker\":{\"colorbar\":{\"outlinewidth\":0,\"ticks\":\"\"}},\"type\":\"scatterternary\"}],\"surface\":[{\"colorbar\":{\"outlinewidth\":0,\"ticks\":\"\"},\"colorscale\":[[0.0,\"#0d0887\"],[0.1111111111111111,\"#46039f\"],[0.2222222222222222,\"#7201a8\"],[0.3333333333333333,\"#9c179e\"],[0.4444444444444444,\"#bd3786\"],[0.5555555555555556,\"#d8576b\"],[0.6666666666666666,\"#ed7953\"],[0.7777777777777778,\"#fb9f3a\"],[0.8888888888888888,\"#fdca26\"],[1.0,\"#f0f921\"]],\"type\":\"surface\"}],\"table\":[{\"cells\":{\"fill\":{\"color\":\"#EBF0F8\"},\"line\":{\"color\":\"white\"}},\"header\":{\"fill\":{\"color\":\"#C8D4E3\"},\"line\":{\"color\":\"white\"}},\"type\":\"table\"}]},\"layout\":{\"annotationdefaults\":{\"arrowcolor\":\"#2a3f5f\",\"arrowhead\":0,\"arrowwidth\":1},\"autotypenumbers\":\"strict\",\"coloraxis\":{\"colorbar\":{\"outlinewidth\":0,\"ticks\":\"\"}},\"colorscale\":{\"diverging\":[[0,\"#8e0152\"],[0.1,\"#c51b7d\"],[0.2,\"#de77ae\"],[0.3,\"#f1b6da\"],[0.4,\"#fde0ef\"],[0.5,\"#f7f7f7\"],[0.6,\"#e6f5d0\"],[0.7,\"#b8e186\"],[0.8,\"#7fbc41\"],[0.9,\"#4d9221\"],[1,\"#276419\"]],\"sequential\":[[0.0,\"#0d0887\"],[0.1111111111111111,\"#46039f\"],[0.2222222222222222,\"#7201a8\"],[0.3333333333333333,\"#9c179e\"],[0.4444444444444444,\"#bd3786\"],[0.5555555555555556,\"#d8576b\"],[0.6666666666666666,\"#ed7953\"],[0.7777777777777778,\"#fb9f3a\"],[0.8888888888888888,\"#fdca26\"],[1.0,\"#f0f921\"]],\"sequentialminus\":[[0.0,\"#0d0887\"],[0.1111111111111111,\"#46039f\"],[0.2222222222222222,\"#7201a8\"],[0.3333333333333333,\"#9c179e\"],[0.4444444444444444,\"#bd3786\"],[0.5555555555555556,\"#d8576b\"],[0.6666666666666666,\"#ed7953\"],[0.7777777777777778,\"#fb9f3a\"],[0.8888888888888888,\"#fdca26\"],[1.0,\"#f0f921\"]]},\"colorway\":[\"#636efa\",\"#EF553B\",\"#00cc96\",\"#ab63fa\",\"#FFA15A\",\"#19d3f3\",\"#FF6692\",\"#B6E880\",\"#FF97FF\",\"#FECB52\"],\"font\":{\"color\":\"#2a3f5f\"},\"geo\":{\"bgcolor\":\"white\",\"lakecolor\":\"white\",\"landcolor\":\"white\",\"showlakes\":true,\"showland\":true,\"subunitcolor\":\"#C8D4E3\"},\"hoverlabel\":{\"align\":\"left\"},\"hovermode\":\"closest\",\"mapbox\":{\"style\":\"light\"},\"paper_bgcolor\":\"white\",\"plot_bgcolor\":\"white\",\"polar\":{\"angularaxis\":{\"gridcolor\":\"#EBF0F8\",\"linecolor\":\"#EBF0F8\",\"ticks\":\"\"},\"bgcolor\":\"white\",\"radialaxis\":{\"gridcolor\":\"#EBF0F8\",\"linecolor\":\"#EBF0F8\",\"ticks\":\"\"}},\"scene\":{\"xaxis\":{\"backgroundcolor\":\"white\",\"gridcolor\":\"#DFE8F3\",\"gridwidth\":2,\"linecolor\":\"#EBF0F8\",\"showbackground\":true,\"ticks\":\"\",\"zerolinecolor\":\"#EBF0F8\"},\"yaxis\":{\"backgroundcolor\":\"white\",\"gridcolor\":\"#DFE8F3\",\"gridwidth\":2,\"linecolor\":\"#EBF0F8\",\"showbackground\":true,\"ticks\":\"\",\"zerolinecolor\":\"#EBF0F8\"},\"zaxis\":{\"backgroundcolor\":\"white\",\"gridcolor\":\"#DFE8F3\",\"gridwidth\":2,\"linecolor\":\"#EBF0F8\",\"showbackground\":true,\"ticks\":\"\",\"zerolinecolor\":\"#EBF0F8\"}},\"shapedefaults\":{\"line\":{\"color\":\"#2a3f5f\"}},\"ternary\":{\"aaxis\":{\"gridcolor\":\"#DFE8F3\",\"linecolor\":\"#A2B1C6\",\"ticks\":\"\"},\"baxis\":{\"gridcolor\":\"#DFE8F3\",\"linecolor\":\"#A2B1C6\",\"ticks\":\"\"},\"bgcolor\":\"white\",\"caxis\":{\"gridcolor\":\"#DFE8F3\",\"linecolor\":\"#A2B1C6\",\"ticks\":\"\"}},\"title\":{\"x\":0.05},\"xaxis\":{\"automargin\":true,\"gridcolor\":\"#EBF0F8\",\"linecolor\":\"#EBF0F8\",\"ticks\":\"\",\"title\":{\"standoff\":15},\"zerolinecolor\":\"#EBF0F8\",\"zerolinewidth\":2},\"yaxis\":{\"automargin\":true,\"gridcolor\":\"#EBF0F8\",\"linecolor\":\"#EBF0F8\",\"ticks\":\"\",\"title\":{\"standoff\":15},\"zerolinecolor\":\"#EBF0F8\",\"zerolinewidth\":2}}},\"barmode\":\"group\",\"title\":{\"text\":\"Water Source vs Walking Time (Percentage)\"},\"xaxis\":{\"title\":{\"text\":\"Main Source of Drinking Water\"}},\"yaxis\":{\"title\":{\"text\":\"Count\"}}},                        {\"responsive\": true}                    ).then(function(){\n",
       "                            \n",
       "var gd = document.getElementById('dbc99de6-965f-4628-bc58-fe0c828d8671');\n",
       "var x = new MutationObserver(function (mutations, observer) {{\n",
       "        var display = window.getComputedStyle(gd).display;\n",
       "        if (!display || display === 'none') {{\n",
       "            console.log([gd, 'removed!']);\n",
       "            Plotly.purge(gd);\n",
       "            observer.disconnect();\n",
       "        }}\n",
       "}});\n",
       "\n",
       "// Listen for the removal of the full notebook cells\n",
       "var notebookContainer = gd.closest('#notebook-container');\n",
       "if (notebookContainer) {{\n",
       "    x.observe(notebookContainer, {childList: true});\n",
       "}}\n",
       "\n",
       "// Listen for the clearing of the current output cell\n",
       "var outputEl = gd.closest('.output');\n",
       "if (outputEl) {{\n",
       "    x.observe(outputEl, {childList: true});\n",
       "}}\n",
       "\n",
       "                        })                };                });            </script>        </div>"
      ]
     },
     "metadata": {},
     "output_type": "display_data"
    }
   ],
   "source": [
    "ct = pd.crosstab(df['Main source of drinking water'], df['Walking time to water source'])\n",
    "\n",
    "# Calculate percentages per row (for each water source)\n",
    "ct_percent = ct.div(ct.sum(axis=1), axis=0) * 100\n",
    "\n",
    "# Plotly grouped bar chart with percentage labels\n",
    "fig = go.Figure()\n",
    "for col in ct.columns:\n",
    "    fig.add_trace(go.Bar(\n",
    "        x=ct.index,\n",
    "        y=ct[col],\n",
    "        name=col,\n",
    "        text=[f\"{v:.1f}%\" for v in ct_percent[col]],  # percentage labels\n",
    "        textposition='auto'\n",
    "    ))\n",
    "\n",
    "fig.update_layout(\n",
    "    barmode='group',\n",
    "    title=\"Water Source vs Walking Time (Percentage)\",\n",
    "    xaxis_title=\"Main Source of Drinking Water\",\n",
    "    yaxis_title=\"Count\",\n",
    "    template='plotly_white'\n",
    ")\n",
    "\n",
    "fig.show()"
   ]
  },
  {
   "cell_type": "code",
   "execution_count": 353,
   "id": "610f8ddd",
   "metadata": {},
   "outputs": [
    {
     "data": {
      "application/vnd.plotly.v1+json": {
       "config": {
        "plotlyServerURL": "https://plot.ly"
       },
       "data": [
        {
         "name": "<15 min",
         "text": [
          "1 (50.0%)",
          "1 (100.0%)",
          "5 (26.3%)",
          "61 (67.8%)",
          "0 (0.0%)"
         ],
         "textposition": "auto",
         "type": "bar",
         "x": [
          "Borehole",
          "Rainwater",
          "River",
          "Shallow well",
          "Trucked water"
         ],
         "y": [
          1,
          1,
          5,
          61,
          0
         ]
        },
        {
         "name": "15–30 min",
         "text": [
          "1 (50.0%)",
          "0 (0.0%)",
          "7 (36.8%)",
          "28 (31.1%)",
          "3 (100.0%)"
         ],
         "textposition": "auto",
         "type": "bar",
         "x": [
          "Borehole",
          "Rainwater",
          "River",
          "Shallow well",
          "Trucked water"
         ],
         "y": [
          1,
          0,
          7,
          28,
          3
         ]
        },
        {
         "name": "30–60 min",
         "text": [
          "0 (0.0%)",
          "0 (0.0%)",
          "7 (36.8%)",
          "1 (1.1%)",
          "0 (0.0%)"
         ],
         "textposition": "auto",
         "type": "bar",
         "x": [
          "Borehole",
          "Rainwater",
          "River",
          "Shallow well",
          "Trucked water"
         ],
         "y": [
          0,
          0,
          7,
          1,
          0
         ]
        }
       ],
       "layout": {
        "barmode": "group",
        "legend": {
         "title": {
          "text": "Walking Time"
         }
        },
        "template": {
         "data": {
          "bar": [
           {
            "error_x": {
             "color": "#2a3f5f"
            },
            "error_y": {
             "color": "#2a3f5f"
            },
            "marker": {
             "line": {
              "color": "white",
              "width": 0.5
             },
             "pattern": {
              "fillmode": "overlay",
              "size": 10,
              "solidity": 0.2
             }
            },
            "type": "bar"
           }
          ],
          "barpolar": [
           {
            "marker": {
             "line": {
              "color": "white",
              "width": 0.5
             },
             "pattern": {
              "fillmode": "overlay",
              "size": 10,
              "solidity": 0.2
             }
            },
            "type": "barpolar"
           }
          ],
          "carpet": [
           {
            "aaxis": {
             "endlinecolor": "#2a3f5f",
             "gridcolor": "#C8D4E3",
             "linecolor": "#C8D4E3",
             "minorgridcolor": "#C8D4E3",
             "startlinecolor": "#2a3f5f"
            },
            "baxis": {
             "endlinecolor": "#2a3f5f",
             "gridcolor": "#C8D4E3",
             "linecolor": "#C8D4E3",
             "minorgridcolor": "#C8D4E3",
             "startlinecolor": "#2a3f5f"
            },
            "type": "carpet"
           }
          ],
          "choropleth": [
           {
            "colorbar": {
             "outlinewidth": 0,
             "ticks": ""
            },
            "type": "choropleth"
           }
          ],
          "contour": [
           {
            "colorbar": {
             "outlinewidth": 0,
             "ticks": ""
            },
            "colorscale": [
             [
              0,
              "#0d0887"
             ],
             [
              0.1111111111111111,
              "#46039f"
             ],
             [
              0.2222222222222222,
              "#7201a8"
             ],
             [
              0.3333333333333333,
              "#9c179e"
             ],
             [
              0.4444444444444444,
              "#bd3786"
             ],
             [
              0.5555555555555556,
              "#d8576b"
             ],
             [
              0.6666666666666666,
              "#ed7953"
             ],
             [
              0.7777777777777778,
              "#fb9f3a"
             ],
             [
              0.8888888888888888,
              "#fdca26"
             ],
             [
              1,
              "#f0f921"
             ]
            ],
            "type": "contour"
           }
          ],
          "contourcarpet": [
           {
            "colorbar": {
             "outlinewidth": 0,
             "ticks": ""
            },
            "type": "contourcarpet"
           }
          ],
          "heatmap": [
           {
            "colorbar": {
             "outlinewidth": 0,
             "ticks": ""
            },
            "colorscale": [
             [
              0,
              "#0d0887"
             ],
             [
              0.1111111111111111,
              "#46039f"
             ],
             [
              0.2222222222222222,
              "#7201a8"
             ],
             [
              0.3333333333333333,
              "#9c179e"
             ],
             [
              0.4444444444444444,
              "#bd3786"
             ],
             [
              0.5555555555555556,
              "#d8576b"
             ],
             [
              0.6666666666666666,
              "#ed7953"
             ],
             [
              0.7777777777777778,
              "#fb9f3a"
             ],
             [
              0.8888888888888888,
              "#fdca26"
             ],
             [
              1,
              "#f0f921"
             ]
            ],
            "type": "heatmap"
           }
          ],
          "heatmapgl": [
           {
            "colorbar": {
             "outlinewidth": 0,
             "ticks": ""
            },
            "colorscale": [
             [
              0,
              "#0d0887"
             ],
             [
              0.1111111111111111,
              "#46039f"
             ],
             [
              0.2222222222222222,
              "#7201a8"
             ],
             [
              0.3333333333333333,
              "#9c179e"
             ],
             [
              0.4444444444444444,
              "#bd3786"
             ],
             [
              0.5555555555555556,
              "#d8576b"
             ],
             [
              0.6666666666666666,
              "#ed7953"
             ],
             [
              0.7777777777777778,
              "#fb9f3a"
             ],
             [
              0.8888888888888888,
              "#fdca26"
             ],
             [
              1,
              "#f0f921"
             ]
            ],
            "type": "heatmapgl"
           }
          ],
          "histogram": [
           {
            "marker": {
             "pattern": {
              "fillmode": "overlay",
              "size": 10,
              "solidity": 0.2
             }
            },
            "type": "histogram"
           }
          ],
          "histogram2d": [
           {
            "colorbar": {
             "outlinewidth": 0,
             "ticks": ""
            },
            "colorscale": [
             [
              0,
              "#0d0887"
             ],
             [
              0.1111111111111111,
              "#46039f"
             ],
             [
              0.2222222222222222,
              "#7201a8"
             ],
             [
              0.3333333333333333,
              "#9c179e"
             ],
             [
              0.4444444444444444,
              "#bd3786"
             ],
             [
              0.5555555555555556,
              "#d8576b"
             ],
             [
              0.6666666666666666,
              "#ed7953"
             ],
             [
              0.7777777777777778,
              "#fb9f3a"
             ],
             [
              0.8888888888888888,
              "#fdca26"
             ],
             [
              1,
              "#f0f921"
             ]
            ],
            "type": "histogram2d"
           }
          ],
          "histogram2dcontour": [
           {
            "colorbar": {
             "outlinewidth": 0,
             "ticks": ""
            },
            "colorscale": [
             [
              0,
              "#0d0887"
             ],
             [
              0.1111111111111111,
              "#46039f"
             ],
             [
              0.2222222222222222,
              "#7201a8"
             ],
             [
              0.3333333333333333,
              "#9c179e"
             ],
             [
              0.4444444444444444,
              "#bd3786"
             ],
             [
              0.5555555555555556,
              "#d8576b"
             ],
             [
              0.6666666666666666,
              "#ed7953"
             ],
             [
              0.7777777777777778,
              "#fb9f3a"
             ],
             [
              0.8888888888888888,
              "#fdca26"
             ],
             [
              1,
              "#f0f921"
             ]
            ],
            "type": "histogram2dcontour"
           }
          ],
          "mesh3d": [
           {
            "colorbar": {
             "outlinewidth": 0,
             "ticks": ""
            },
            "type": "mesh3d"
           }
          ],
          "parcoords": [
           {
            "line": {
             "colorbar": {
              "outlinewidth": 0,
              "ticks": ""
             }
            },
            "type": "parcoords"
           }
          ],
          "pie": [
           {
            "automargin": true,
            "type": "pie"
           }
          ],
          "scatter": [
           {
            "fillpattern": {
             "fillmode": "overlay",
             "size": 10,
             "solidity": 0.2
            },
            "type": "scatter"
           }
          ],
          "scatter3d": [
           {
            "line": {
             "colorbar": {
              "outlinewidth": 0,
              "ticks": ""
             }
            },
            "marker": {
             "colorbar": {
              "outlinewidth": 0,
              "ticks": ""
             }
            },
            "type": "scatter3d"
           }
          ],
          "scattercarpet": [
           {
            "marker": {
             "colorbar": {
              "outlinewidth": 0,
              "ticks": ""
             }
            },
            "type": "scattercarpet"
           }
          ],
          "scattergeo": [
           {
            "marker": {
             "colorbar": {
              "outlinewidth": 0,
              "ticks": ""
             }
            },
            "type": "scattergeo"
           }
          ],
          "scattergl": [
           {
            "marker": {
             "colorbar": {
              "outlinewidth": 0,
              "ticks": ""
             }
            },
            "type": "scattergl"
           }
          ],
          "scattermapbox": [
           {
            "marker": {
             "colorbar": {
              "outlinewidth": 0,
              "ticks": ""
             }
            },
            "type": "scattermapbox"
           }
          ],
          "scatterpolar": [
           {
            "marker": {
             "colorbar": {
              "outlinewidth": 0,
              "ticks": ""
             }
            },
            "type": "scatterpolar"
           }
          ],
          "scatterpolargl": [
           {
            "marker": {
             "colorbar": {
              "outlinewidth": 0,
              "ticks": ""
             }
            },
            "type": "scatterpolargl"
           }
          ],
          "scatterternary": [
           {
            "marker": {
             "colorbar": {
              "outlinewidth": 0,
              "ticks": ""
             }
            },
            "type": "scatterternary"
           }
          ],
          "surface": [
           {
            "colorbar": {
             "outlinewidth": 0,
             "ticks": ""
            },
            "colorscale": [
             [
              0,
              "#0d0887"
             ],
             [
              0.1111111111111111,
              "#46039f"
             ],
             [
              0.2222222222222222,
              "#7201a8"
             ],
             [
              0.3333333333333333,
              "#9c179e"
             ],
             [
              0.4444444444444444,
              "#bd3786"
             ],
             [
              0.5555555555555556,
              "#d8576b"
             ],
             [
              0.6666666666666666,
              "#ed7953"
             ],
             [
              0.7777777777777778,
              "#fb9f3a"
             ],
             [
              0.8888888888888888,
              "#fdca26"
             ],
             [
              1,
              "#f0f921"
             ]
            ],
            "type": "surface"
           }
          ],
          "table": [
           {
            "cells": {
             "fill": {
              "color": "#EBF0F8"
             },
             "line": {
              "color": "white"
             }
            },
            "header": {
             "fill": {
              "color": "#C8D4E3"
             },
             "line": {
              "color": "white"
             }
            },
            "type": "table"
           }
          ]
         },
         "layout": {
          "annotationdefaults": {
           "arrowcolor": "#2a3f5f",
           "arrowhead": 0,
           "arrowwidth": 1
          },
          "autotypenumbers": "strict",
          "coloraxis": {
           "colorbar": {
            "outlinewidth": 0,
            "ticks": ""
           }
          },
          "colorscale": {
           "diverging": [
            [
             0,
             "#8e0152"
            ],
            [
             0.1,
             "#c51b7d"
            ],
            [
             0.2,
             "#de77ae"
            ],
            [
             0.3,
             "#f1b6da"
            ],
            [
             0.4,
             "#fde0ef"
            ],
            [
             0.5,
             "#f7f7f7"
            ],
            [
             0.6,
             "#e6f5d0"
            ],
            [
             0.7,
             "#b8e186"
            ],
            [
             0.8,
             "#7fbc41"
            ],
            [
             0.9,
             "#4d9221"
            ],
            [
             1,
             "#276419"
            ]
           ],
           "sequential": [
            [
             0,
             "#0d0887"
            ],
            [
             0.1111111111111111,
             "#46039f"
            ],
            [
             0.2222222222222222,
             "#7201a8"
            ],
            [
             0.3333333333333333,
             "#9c179e"
            ],
            [
             0.4444444444444444,
             "#bd3786"
            ],
            [
             0.5555555555555556,
             "#d8576b"
            ],
            [
             0.6666666666666666,
             "#ed7953"
            ],
            [
             0.7777777777777778,
             "#fb9f3a"
            ],
            [
             0.8888888888888888,
             "#fdca26"
            ],
            [
             1,
             "#f0f921"
            ]
           ],
           "sequentialminus": [
            [
             0,
             "#0d0887"
            ],
            [
             0.1111111111111111,
             "#46039f"
            ],
            [
             0.2222222222222222,
             "#7201a8"
            ],
            [
             0.3333333333333333,
             "#9c179e"
            ],
            [
             0.4444444444444444,
             "#bd3786"
            ],
            [
             0.5555555555555556,
             "#d8576b"
            ],
            [
             0.6666666666666666,
             "#ed7953"
            ],
            [
             0.7777777777777778,
             "#fb9f3a"
            ],
            [
             0.8888888888888888,
             "#fdca26"
            ],
            [
             1,
             "#f0f921"
            ]
           ]
          },
          "colorway": [
           "#636efa",
           "#EF553B",
           "#00cc96",
           "#ab63fa",
           "#FFA15A",
           "#19d3f3",
           "#FF6692",
           "#B6E880",
           "#FF97FF",
           "#FECB52"
          ],
          "font": {
           "color": "#2a3f5f"
          },
          "geo": {
           "bgcolor": "white",
           "lakecolor": "white",
           "landcolor": "white",
           "showlakes": true,
           "showland": true,
           "subunitcolor": "#C8D4E3"
          },
          "hoverlabel": {
           "align": "left"
          },
          "hovermode": "closest",
          "mapbox": {
           "style": "light"
          },
          "paper_bgcolor": "white",
          "plot_bgcolor": "white",
          "polar": {
           "angularaxis": {
            "gridcolor": "#EBF0F8",
            "linecolor": "#EBF0F8",
            "ticks": ""
           },
           "bgcolor": "white",
           "radialaxis": {
            "gridcolor": "#EBF0F8",
            "linecolor": "#EBF0F8",
            "ticks": ""
           }
          },
          "scene": {
           "xaxis": {
            "backgroundcolor": "white",
            "gridcolor": "#DFE8F3",
            "gridwidth": 2,
            "linecolor": "#EBF0F8",
            "showbackground": true,
            "ticks": "",
            "zerolinecolor": "#EBF0F8"
           },
           "yaxis": {
            "backgroundcolor": "white",
            "gridcolor": "#DFE8F3",
            "gridwidth": 2,
            "linecolor": "#EBF0F8",
            "showbackground": true,
            "ticks": "",
            "zerolinecolor": "#EBF0F8"
           },
           "zaxis": {
            "backgroundcolor": "white",
            "gridcolor": "#DFE8F3",
            "gridwidth": 2,
            "linecolor": "#EBF0F8",
            "showbackground": true,
            "ticks": "",
            "zerolinecolor": "#EBF0F8"
           }
          },
          "shapedefaults": {
           "line": {
            "color": "#2a3f5f"
           }
          },
          "ternary": {
           "aaxis": {
            "gridcolor": "#DFE8F3",
            "linecolor": "#A2B1C6",
            "ticks": ""
           },
           "baxis": {
            "gridcolor": "#DFE8F3",
            "linecolor": "#A2B1C6",
            "ticks": ""
           },
           "bgcolor": "white",
           "caxis": {
            "gridcolor": "#DFE8F3",
            "linecolor": "#A2B1C6",
            "ticks": ""
           }
          },
          "title": {
           "x": 0.05
          },
          "xaxis": {
           "automargin": true,
           "gridcolor": "#EBF0F8",
           "linecolor": "#EBF0F8",
           "ticks": "",
           "title": {
            "standoff": 15
           },
           "zerolinecolor": "#EBF0F8",
           "zerolinewidth": 2
          },
          "yaxis": {
           "automargin": true,
           "gridcolor": "#EBF0F8",
           "linecolor": "#EBF0F8",
           "ticks": "",
           "title": {
            "standoff": 15
           },
           "zerolinecolor": "#EBF0F8",
           "zerolinewidth": 2
          }
         }
        },
        "title": {
         "text": "Main Source of Drinking Water vs Walking Time"
        },
        "xaxis": {
         "title": {
          "text": "Main Source of Drinking Water"
         }
        },
        "yaxis": {
         "title": {
          "text": "Count"
         }
        }
       }
      },
      "text/html": [
       "<div>                            <div id=\"e782a704-abb1-4eb2-b2ea-229ec05c7850\" class=\"plotly-graph-div\" style=\"height:525px; width:100%;\"></div>            <script type=\"text/javascript\">                require([\"plotly\"], function(Plotly) {                    window.PLOTLYENV=window.PLOTLYENV || {};                                    if (document.getElementById(\"e782a704-abb1-4eb2-b2ea-229ec05c7850\")) {                    Plotly.newPlot(                        \"e782a704-abb1-4eb2-b2ea-229ec05c7850\",                        [{\"name\":\"<15 min\",\"text\":[\"1 (50.0%)\",\"1 (100.0%)\",\"5 (26.3%)\",\"61 (67.8%)\",\"0 (0.0%)\"],\"textposition\":\"auto\",\"x\":[\"Borehole\",\"Rainwater\",\"River\",\"Shallow well\",\"Trucked water\"],\"y\":[1,1,5,61,0],\"type\":\"bar\"},{\"name\":\"15–30 min\",\"text\":[\"1 (50.0%)\",\"0 (0.0%)\",\"7 (36.8%)\",\"28 (31.1%)\",\"3 (100.0%)\"],\"textposition\":\"auto\",\"x\":[\"Borehole\",\"Rainwater\",\"River\",\"Shallow well\",\"Trucked water\"],\"y\":[1,0,7,28,3],\"type\":\"bar\"},{\"name\":\"30–60 min\",\"text\":[\"0 (0.0%)\",\"0 (0.0%)\",\"7 (36.8%)\",\"1 (1.1%)\",\"0 (0.0%)\"],\"textposition\":\"auto\",\"x\":[\"Borehole\",\"Rainwater\",\"River\",\"Shallow well\",\"Trucked water\"],\"y\":[0,0,7,1,0],\"type\":\"bar\"}],                        {\"template\":{\"data\":{\"barpolar\":[{\"marker\":{\"line\":{\"color\":\"white\",\"width\":0.5},\"pattern\":{\"fillmode\":\"overlay\",\"size\":10,\"solidity\":0.2}},\"type\":\"barpolar\"}],\"bar\":[{\"error_x\":{\"color\":\"#2a3f5f\"},\"error_y\":{\"color\":\"#2a3f5f\"},\"marker\":{\"line\":{\"color\":\"white\",\"width\":0.5},\"pattern\":{\"fillmode\":\"overlay\",\"size\":10,\"solidity\":0.2}},\"type\":\"bar\"}],\"carpet\":[{\"aaxis\":{\"endlinecolor\":\"#2a3f5f\",\"gridcolor\":\"#C8D4E3\",\"linecolor\":\"#C8D4E3\",\"minorgridcolor\":\"#C8D4E3\",\"startlinecolor\":\"#2a3f5f\"},\"baxis\":{\"endlinecolor\":\"#2a3f5f\",\"gridcolor\":\"#C8D4E3\",\"linecolor\":\"#C8D4E3\",\"minorgridcolor\":\"#C8D4E3\",\"startlinecolor\":\"#2a3f5f\"},\"type\":\"carpet\"}],\"choropleth\":[{\"colorbar\":{\"outlinewidth\":0,\"ticks\":\"\"},\"type\":\"choropleth\"}],\"contourcarpet\":[{\"colorbar\":{\"outlinewidth\":0,\"ticks\":\"\"},\"type\":\"contourcarpet\"}],\"contour\":[{\"colorbar\":{\"outlinewidth\":0,\"ticks\":\"\"},\"colorscale\":[[0.0,\"#0d0887\"],[0.1111111111111111,\"#46039f\"],[0.2222222222222222,\"#7201a8\"],[0.3333333333333333,\"#9c179e\"],[0.4444444444444444,\"#bd3786\"],[0.5555555555555556,\"#d8576b\"],[0.6666666666666666,\"#ed7953\"],[0.7777777777777778,\"#fb9f3a\"],[0.8888888888888888,\"#fdca26\"],[1.0,\"#f0f921\"]],\"type\":\"contour\"}],\"heatmapgl\":[{\"colorbar\":{\"outlinewidth\":0,\"ticks\":\"\"},\"colorscale\":[[0.0,\"#0d0887\"],[0.1111111111111111,\"#46039f\"],[0.2222222222222222,\"#7201a8\"],[0.3333333333333333,\"#9c179e\"],[0.4444444444444444,\"#bd3786\"],[0.5555555555555556,\"#d8576b\"],[0.6666666666666666,\"#ed7953\"],[0.7777777777777778,\"#fb9f3a\"],[0.8888888888888888,\"#fdca26\"],[1.0,\"#f0f921\"]],\"type\":\"heatmapgl\"}],\"heatmap\":[{\"colorbar\":{\"outlinewidth\":0,\"ticks\":\"\"},\"colorscale\":[[0.0,\"#0d0887\"],[0.1111111111111111,\"#46039f\"],[0.2222222222222222,\"#7201a8\"],[0.3333333333333333,\"#9c179e\"],[0.4444444444444444,\"#bd3786\"],[0.5555555555555556,\"#d8576b\"],[0.6666666666666666,\"#ed7953\"],[0.7777777777777778,\"#fb9f3a\"],[0.8888888888888888,\"#fdca26\"],[1.0,\"#f0f921\"]],\"type\":\"heatmap\"}],\"histogram2dcontour\":[{\"colorbar\":{\"outlinewidth\":0,\"ticks\":\"\"},\"colorscale\":[[0.0,\"#0d0887\"],[0.1111111111111111,\"#46039f\"],[0.2222222222222222,\"#7201a8\"],[0.3333333333333333,\"#9c179e\"],[0.4444444444444444,\"#bd3786\"],[0.5555555555555556,\"#d8576b\"],[0.6666666666666666,\"#ed7953\"],[0.7777777777777778,\"#fb9f3a\"],[0.8888888888888888,\"#fdca26\"],[1.0,\"#f0f921\"]],\"type\":\"histogram2dcontour\"}],\"histogram2d\":[{\"colorbar\":{\"outlinewidth\":0,\"ticks\":\"\"},\"colorscale\":[[0.0,\"#0d0887\"],[0.1111111111111111,\"#46039f\"],[0.2222222222222222,\"#7201a8\"],[0.3333333333333333,\"#9c179e\"],[0.4444444444444444,\"#bd3786\"],[0.5555555555555556,\"#d8576b\"],[0.6666666666666666,\"#ed7953\"],[0.7777777777777778,\"#fb9f3a\"],[0.8888888888888888,\"#fdca26\"],[1.0,\"#f0f921\"]],\"type\":\"histogram2d\"}],\"histogram\":[{\"marker\":{\"pattern\":{\"fillmode\":\"overlay\",\"size\":10,\"solidity\":0.2}},\"type\":\"histogram\"}],\"mesh3d\":[{\"colorbar\":{\"outlinewidth\":0,\"ticks\":\"\"},\"type\":\"mesh3d\"}],\"parcoords\":[{\"line\":{\"colorbar\":{\"outlinewidth\":0,\"ticks\":\"\"}},\"type\":\"parcoords\"}],\"pie\":[{\"automargin\":true,\"type\":\"pie\"}],\"scatter3d\":[{\"line\":{\"colorbar\":{\"outlinewidth\":0,\"ticks\":\"\"}},\"marker\":{\"colorbar\":{\"outlinewidth\":0,\"ticks\":\"\"}},\"type\":\"scatter3d\"}],\"scattercarpet\":[{\"marker\":{\"colorbar\":{\"outlinewidth\":0,\"ticks\":\"\"}},\"type\":\"scattercarpet\"}],\"scattergeo\":[{\"marker\":{\"colorbar\":{\"outlinewidth\":0,\"ticks\":\"\"}},\"type\":\"scattergeo\"}],\"scattergl\":[{\"marker\":{\"colorbar\":{\"outlinewidth\":0,\"ticks\":\"\"}},\"type\":\"scattergl\"}],\"scattermapbox\":[{\"marker\":{\"colorbar\":{\"outlinewidth\":0,\"ticks\":\"\"}},\"type\":\"scattermapbox\"}],\"scatterpolargl\":[{\"marker\":{\"colorbar\":{\"outlinewidth\":0,\"ticks\":\"\"}},\"type\":\"scatterpolargl\"}],\"scatterpolar\":[{\"marker\":{\"colorbar\":{\"outlinewidth\":0,\"ticks\":\"\"}},\"type\":\"scatterpolar\"}],\"scatter\":[{\"fillpattern\":{\"fillmode\":\"overlay\",\"size\":10,\"solidity\":0.2},\"type\":\"scatter\"}],\"scatterternary\":[{\"marker\":{\"colorbar\":{\"outlinewidth\":0,\"ticks\":\"\"}},\"type\":\"scatterternary\"}],\"surface\":[{\"colorbar\":{\"outlinewidth\":0,\"ticks\":\"\"},\"colorscale\":[[0.0,\"#0d0887\"],[0.1111111111111111,\"#46039f\"],[0.2222222222222222,\"#7201a8\"],[0.3333333333333333,\"#9c179e\"],[0.4444444444444444,\"#bd3786\"],[0.5555555555555556,\"#d8576b\"],[0.6666666666666666,\"#ed7953\"],[0.7777777777777778,\"#fb9f3a\"],[0.8888888888888888,\"#fdca26\"],[1.0,\"#f0f921\"]],\"type\":\"surface\"}],\"table\":[{\"cells\":{\"fill\":{\"color\":\"#EBF0F8\"},\"line\":{\"color\":\"white\"}},\"header\":{\"fill\":{\"color\":\"#C8D4E3\"},\"line\":{\"color\":\"white\"}},\"type\":\"table\"}]},\"layout\":{\"annotationdefaults\":{\"arrowcolor\":\"#2a3f5f\",\"arrowhead\":0,\"arrowwidth\":1},\"autotypenumbers\":\"strict\",\"coloraxis\":{\"colorbar\":{\"outlinewidth\":0,\"ticks\":\"\"}},\"colorscale\":{\"diverging\":[[0,\"#8e0152\"],[0.1,\"#c51b7d\"],[0.2,\"#de77ae\"],[0.3,\"#f1b6da\"],[0.4,\"#fde0ef\"],[0.5,\"#f7f7f7\"],[0.6,\"#e6f5d0\"],[0.7,\"#b8e186\"],[0.8,\"#7fbc41\"],[0.9,\"#4d9221\"],[1,\"#276419\"]],\"sequential\":[[0.0,\"#0d0887\"],[0.1111111111111111,\"#46039f\"],[0.2222222222222222,\"#7201a8\"],[0.3333333333333333,\"#9c179e\"],[0.4444444444444444,\"#bd3786\"],[0.5555555555555556,\"#d8576b\"],[0.6666666666666666,\"#ed7953\"],[0.7777777777777778,\"#fb9f3a\"],[0.8888888888888888,\"#fdca26\"],[1.0,\"#f0f921\"]],\"sequentialminus\":[[0.0,\"#0d0887\"],[0.1111111111111111,\"#46039f\"],[0.2222222222222222,\"#7201a8\"],[0.3333333333333333,\"#9c179e\"],[0.4444444444444444,\"#bd3786\"],[0.5555555555555556,\"#d8576b\"],[0.6666666666666666,\"#ed7953\"],[0.7777777777777778,\"#fb9f3a\"],[0.8888888888888888,\"#fdca26\"],[1.0,\"#f0f921\"]]},\"colorway\":[\"#636efa\",\"#EF553B\",\"#00cc96\",\"#ab63fa\",\"#FFA15A\",\"#19d3f3\",\"#FF6692\",\"#B6E880\",\"#FF97FF\",\"#FECB52\"],\"font\":{\"color\":\"#2a3f5f\"},\"geo\":{\"bgcolor\":\"white\",\"lakecolor\":\"white\",\"landcolor\":\"white\",\"showlakes\":true,\"showland\":true,\"subunitcolor\":\"#C8D4E3\"},\"hoverlabel\":{\"align\":\"left\"},\"hovermode\":\"closest\",\"mapbox\":{\"style\":\"light\"},\"paper_bgcolor\":\"white\",\"plot_bgcolor\":\"white\",\"polar\":{\"angularaxis\":{\"gridcolor\":\"#EBF0F8\",\"linecolor\":\"#EBF0F8\",\"ticks\":\"\"},\"bgcolor\":\"white\",\"radialaxis\":{\"gridcolor\":\"#EBF0F8\",\"linecolor\":\"#EBF0F8\",\"ticks\":\"\"}},\"scene\":{\"xaxis\":{\"backgroundcolor\":\"white\",\"gridcolor\":\"#DFE8F3\",\"gridwidth\":2,\"linecolor\":\"#EBF0F8\",\"showbackground\":true,\"ticks\":\"\",\"zerolinecolor\":\"#EBF0F8\"},\"yaxis\":{\"backgroundcolor\":\"white\",\"gridcolor\":\"#DFE8F3\",\"gridwidth\":2,\"linecolor\":\"#EBF0F8\",\"showbackground\":true,\"ticks\":\"\",\"zerolinecolor\":\"#EBF0F8\"},\"zaxis\":{\"backgroundcolor\":\"white\",\"gridcolor\":\"#DFE8F3\",\"gridwidth\":2,\"linecolor\":\"#EBF0F8\",\"showbackground\":true,\"ticks\":\"\",\"zerolinecolor\":\"#EBF0F8\"}},\"shapedefaults\":{\"line\":{\"color\":\"#2a3f5f\"}},\"ternary\":{\"aaxis\":{\"gridcolor\":\"#DFE8F3\",\"linecolor\":\"#A2B1C6\",\"ticks\":\"\"},\"baxis\":{\"gridcolor\":\"#DFE8F3\",\"linecolor\":\"#A2B1C6\",\"ticks\":\"\"},\"bgcolor\":\"white\",\"caxis\":{\"gridcolor\":\"#DFE8F3\",\"linecolor\":\"#A2B1C6\",\"ticks\":\"\"}},\"title\":{\"x\":0.05},\"xaxis\":{\"automargin\":true,\"gridcolor\":\"#EBF0F8\",\"linecolor\":\"#EBF0F8\",\"ticks\":\"\",\"title\":{\"standoff\":15},\"zerolinecolor\":\"#EBF0F8\",\"zerolinewidth\":2},\"yaxis\":{\"automargin\":true,\"gridcolor\":\"#EBF0F8\",\"linecolor\":\"#EBF0F8\",\"ticks\":\"\",\"title\":{\"standoff\":15},\"zerolinecolor\":\"#EBF0F8\",\"zerolinewidth\":2}}},\"barmode\":\"group\",\"title\":{\"text\":\"Main Source of Drinking Water vs Walking Time\"},\"xaxis\":{\"title\":{\"text\":\"Main Source of Drinking Water\"}},\"yaxis\":{\"title\":{\"text\":\"Count\"}},\"legend\":{\"title\":{\"text\":\"Walking Time\"}}},                        {\"responsive\": true}                    ).then(function(){\n",
       "                            \n",
       "var gd = document.getElementById('e782a704-abb1-4eb2-b2ea-229ec05c7850');\n",
       "var x = new MutationObserver(function (mutations, observer) {{\n",
       "        var display = window.getComputedStyle(gd).display;\n",
       "        if (!display || display === 'none') {{\n",
       "            console.log([gd, 'removed!']);\n",
       "            Plotly.purge(gd);\n",
       "            observer.disconnect();\n",
       "        }}\n",
       "}});\n",
       "\n",
       "// Listen for the removal of the full notebook cells\n",
       "var notebookContainer = gd.closest('#notebook-container');\n",
       "if (notebookContainer) {{\n",
       "    x.observe(notebookContainer, {childList: true});\n",
       "}}\n",
       "\n",
       "// Listen for the clearing of the current output cell\n",
       "var outputEl = gd.closest('.output');\n",
       "if (outputEl) {{\n",
       "    x.observe(outputEl, {childList: true});\n",
       "}}\n",
       "\n",
       "                        })                };                });            </script>        </div>"
      ]
     },
     "metadata": {},
     "output_type": "display_data"
    }
   ],
   "source": [
    "ct = pd.crosstab(df['Main source of drinking water'], df['Walking time to water source'])\n",
    "\n",
    "# Calculate percentages per row (row-wise)\n",
    "ct_percent = ct.div(ct.sum(axis=1), axis=0) * 100\n",
    "\n",
    "# Create grouped bar chart\n",
    "fig = go.Figure()\n",
    "\n",
    "for col in ct.columns:\n",
    "    fig.add_trace(go.Bar(\n",
    "        x=ct.index,\n",
    "        y=ct[col],\n",
    "        name=col,\n",
    "        text=[f\"{v} ({p:.1f}%)\" for v, p in zip(ct[col], ct_percent[col])],  # count + percentage\n",
    "        textposition='auto'\n",
    "    ))\n",
    "\n",
    "fig.update_layout(\n",
    "    barmode='group',\n",
    "    title=\"Main Source of Drinking Water vs Walking Time\",\n",
    "    xaxis_title=\"Main Source of Drinking Water\",\n",
    "    yaxis_title=\"Count\",\n",
    "    template='plotly_white',\n",
    "    legend_title=\"Walking Time\"\n",
    ")\n",
    "\n",
    "fig.show()\n"
   ]
  },
  {
   "cell_type": "code",
   "execution_count": null,
   "id": "b1698654",
   "metadata": {},
   "outputs": [],
   "source": []
  }
 ],
 "metadata": {
  "kernelspec": {
   "display_name": "Python 3 (ipykernel)",
   "language": "python",
   "name": "python3"
  },
  "language_info": {
   "codemirror_mode": {
    "name": "ipython",
    "version": 3
   },
   "file_extension": ".py",
   "mimetype": "text/x-python",
   "name": "python",
   "nbconvert_exporter": "python",
   "pygments_lexer": "ipython3",
   "version": "3.11.8"
  }
 },
 "nbformat": 4,
 "nbformat_minor": 5
}
